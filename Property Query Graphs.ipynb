{
 "cells": [
  {
   "cell_type": "markdown",
   "metadata": {},
   "source": [
    "## Property Query Graphs"
   ]
  },
  {
   "cell_type": "markdown",
   "metadata": {},
   "source": [
    "A continuación presentamos la librería de consulta de patrones en grafos con propiedades \"Property Query Graphs\", la cual realiza consultas de patrones en subgrafos inmersos en una base de datos en grafo Neo4j."
   ]
  },
  {
   "cell_type": "markdown",
   "metadata": {},
   "source": [
    "Cargamos la librería y definimos los PQGs así como los subgrafos presentados en el capitulo"
   ]
  },
  {
   "cell_type": "code",
   "execution_count": 1,
   "metadata": {
    "collapsed": false
   },
   "outputs": [
    {
     "name": "stdout",
     "output_type": "stream",
     "text": [
      "[{'fixed': True, 'alpha': True, 'tetha': {}, 'label': 'a'}, {'fixed': False, 'alpha': True, 'tetha': {}, 'label': 'b'}][{'alpha': True, 'tetha': '-[]->', 'gamma': ['a', 'b'], 'fixed': False}]\n"
     ]
    }
   ],
   "source": [
    "import sys\n",
    "#sys.setrecursionlimit(40000)\n",
    "from tabulate import tabulate\n",
    "from PropertyQueryGraph import *\n",
    "from QuerySystem import *\n",
    "logging.basicConfig(level=logging.WARNING, format='%(asctime)s - %(levelname)s - %(message)s')\n",
    "\n",
    "#Creamos los PQGs definidos en el capítulo\n",
    "q1 = PropertyQueryGraph()\n",
    "q1.addNode(\"a\",True,{},True)\n",
    "q1.addNode(\"b\",True,{},False)\n",
    "q1.addLink(True,[\"a\",\"b\"],\"-[]->\",False)\n",
    "\n",
    "q2 = PropertyQueryGraph()\n",
    "q2.addNode(\"a\",True,{},True)\n",
    "q2.addNode(\"b\",True,{},True)\n",
    "q2.addNode(\"c\",False,{\"gender\":\"male\"},False)\n",
    "q2.addLink(True,[\"a\",\"b\"],\"-[]->\",True)\n",
    "q2.addLink(False,[\"a\",\"c\"],\"-[]->\",False)\n",
    "\n",
    "q3 = PropertyQueryGraph()\n",
    "q3.addNode(\"a\",True,{},False)\n",
    "q3.addNode(\"b\",True,{},False)\n",
    "q3.addNode(\"c\",True,{},False)\n",
    "q3.addNode(\"d\",True,{},True)\n",
    "q3.addLink(True,[\"a\",\"b\"],\"-[]->\",False)\n",
    "q3.addLink(True,[\"a\",\"c\"],\"-[]->\",False)\n",
    "q3.addLink(True,[\"b\",\"d\"],\"-[]->\",False)\n",
    "q3.addLink(True,[\"c\",\"d\"],\"-[]->\",False)\n",
    "\n",
    "q4 = PropertyQueryGraph()\n",
    "q4.addNode(\"a\",True,{\"type\":\"photo\"},True)\n",
    "\n",
    "q5 = PropertyQueryGraph()\n",
    "q5.addNode(\"a\",True,{},True)\n",
    "q5.addNode(\"b\",True,{},False)\n",
    "q5.addLink(True,[\"a\",\"b\"],\"-[:wife]-({gender:'male'})-[:likes]->\",False)\n",
    "\n",
    "q6 = PropertyQueryGraph()\n",
    "q6.addNode(\"a\",True,{},True)\n",
    "q6.addNode(\"b\",True,{},False)\n",
    "q6.addLink(True,[\"a\",\"b\"],\"-[*..]->\",False)\n",
    "\n",
    "#Definimos los usbgrafos sobre los que vamos a consultar (los definidos en el capítulo)\n",
    "s1 = [5]\n",
    "s2 = [4]\n",
    "s3 = [11,12]\n",
    "print q1"
   ]
  },
  {
   "cell_type": "markdown",
   "metadata": {},
   "source": [
    "Creamos el Sistema de Consultas:"
   ]
  },
  {
   "cell_type": "code",
   "execution_count": 2,
   "metadata": {
    "collapsed": false
   },
   "outputs": [],
   "source": [
    "qs = QuerySystem(7474,\"neo4j\",\"pytpytpyt\")"
   ]
  },
  {
   "cell_type": "markdown",
   "metadata": {},
   "source": [
    "Como ejemplo consultamos si el subgrafo s3 cumple con el PQG q1. En el atributo relation se guarda la relación que han dado lugar a el cumplimiento del Query:"
   ]
  },
  {
   "cell_type": "code",
   "execution_count": 18,
   "metadata": {
    "collapsed": false
   },
   "outputs": [
    {
     "name": "stderr",
     "output_type": "stream",
     "text": [
      "2016-12-07 15:00:03,838 - WARNING - Verifying isomorphism between..\n",
      "2016-12-07 15:00:03,839 - WARNING - (b4e6b79:node {gender:\"female\",name:\"l\",type:\"user\"})\n",
      "2016-12-07 15:00:03,840 - WARNING - {'fixed': True, 'alpha': True, 'tetha': {}, 'label': 'a'}\n",
      "2016-12-07 15:00:03,840 - WARNING - Verifying absent edge restrictions..\n",
      "2016-12-07 15:00:03,841 - WARNING - []\n",
      "2016-12-07 15:00:03,842 - WARNING - nodes without check!\n",
      "2016-12-07 15:00:03,842 - WARNING - [{'fixed': False, 'alpha': True, 'tetha': {}, 'label': 'b'}]\n",
      "2016-12-07 15:00:03,843 - WARNING - Present links...\n",
      "2016-12-07 15:00:03,843 - WARNING - {'inverse': False, 'alpha': True, 'tetha': '-[*..]->', 'gamma': ['a', 'b'], 'fixed': False}\n",
      "2016-12-07 15:00:03,847 - WARNING - nodos al otro lado en el subgrafo\n",
      "2016-12-07 15:00:03,847 - WARNING - [{u'm': (e10ddf7:node {name:\"h\",type:\"photo\"})}, {u'm': (e4ee553:node {name:\"m\",type:\"photo\"})}]\n",
      "2016-12-07 15:00:03,848 - WARNING - nodos al otro lado en el query\n",
      "2016-12-07 15:00:03,849 - WARNING - [{'fixed': False, 'alpha': True, 'tetha': {}, 'label': 'b'}]\n",
      "2016-12-07 15:00:03,849 - WARNING - Verifying isomorphism between..\n",
      "2016-12-07 15:00:03,849 - WARNING - (e10ddf7:node {name:\"h\",type:\"photo\"})\n",
      "2016-12-07 15:00:03,850 - WARNING - {'fixed': False, 'alpha': True, 'tetha': {}, 'label': 'b'}\n",
      "2016-12-07 15:00:03,850 - WARNING - Verifying absent edge restrictions..\n",
      "2016-12-07 15:00:03,851 - WARNING - []\n",
      "2016-12-07 15:00:03,852 - WARNING - nodes without check!\n",
      "2016-12-07 15:00:03,852 - WARNING - []\n"
     ]
    },
    {
     "name": "stdout",
     "output_type": "stream",
     "text": [
      "True\n"
     ]
    },
    {
     "data": {
      "text/plain": [
       "[[{'alpha': True, 'fixed': True, 'label': 'a', 'tetha': {}},\n",
       "  (b4e6b79:node {gender:\"female\",name:\"l\",type:\"user\"})],\n",
       " [{'alpha': True, 'fixed': False, 'label': 'b', 'tetha': {}},\n",
       "  (e10ddf7:node {name:\"h\",type:\"photo\"})]]"
      ]
     },
     "execution_count": 18,
     "metadata": {},
     "output_type": "execute_result"
    }
   ],
   "source": [
    "print qs.query(q6,s3)\n",
    "qs.relation"
   ]
  },
  {
   "cell_type": "markdown",
   "metadata": {},
   "source": [
    "A continuación creamos de manera automática la misma tabla presentada en el capítulo que muestra el cumplimiento o no de cada subgrafo con cada PQG:"
   ]
  },
  {
   "cell_type": "code",
   "execution_count": 9,
   "metadata": {
    "collapsed": false,
    "scrolled": false
   },
   "outputs": [
    {
     "name": "stdout",
     "output_type": "stream",
     "text": [
      "-  -  -  -  -  -\n",
      "0  0  1  1  0  0\n",
      "1  0  1  0  1  1\n",
      "1  1  1  1  0  1\n",
      "-  -  -  -  -  -\n"
     ]
    }
   ],
   "source": [
    "Q = [q1,q2,q3,q4,q5,q6]\n",
    "S = [s1,s2,s3]\n",
    "\n",
    "l = []\n",
    "\n",
    "for k1,s in enumerate(S):\n",
    "    l.append([])\n",
    "    for k2,q in enumerate(Q):\n",
    "        l[k1].append(qs.query(q,s))\n",
    "            \n",
    "print tabulate(l)"
   ]
  },
  {
   "cell_type": "markdown",
   "metadata": {
    "collapsed": true
   },
   "source": [
    "Se verifica que la implementación está funcionando correctamente, al menos para los ejemplos presentados en el capítulo."
   ]
  }
 ],
 "metadata": {
  "kernelspec": {
   "display_name": "Python 2",
   "language": "python",
   "name": "python2"
  },
  "language_info": {
   "codemirror_mode": {
    "name": "ipython",
    "version": 2
   },
   "file_extension": ".py",
   "mimetype": "text/x-python",
   "name": "python",
   "nbconvert_exporter": "python",
   "pygments_lexer": "ipython2",
   "version": "2.7.12"
  }
 },
 "nbformat": 4,
 "nbformat_minor": 1
}
