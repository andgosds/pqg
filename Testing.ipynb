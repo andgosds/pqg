{
 "cells": [
  {
   "cell_type": "markdown",
   "metadata": {},
   "source": [
    "## Property Query Graphs"
   ]
  },
  {
   "cell_type": "markdown",
   "metadata": {},
   "source": [
    "A continuación presentamos la librería de consulta de patrones en grafos con propiedades \"Property Query Graphs\", la cual realiza consultas de patrones en subgrafos inmersos en una base de datos en grafo Neo4j."
   ]
  },
  {
   "cell_type": "markdown",
   "metadata": {},
   "source": [
    "Cargamos la librería y definimos los PQGs así como los subgrafos presentados en el capitulo"
   ]
  },
  {
   "cell_type": "code",
   "execution_count": null,
   "metadata": {
    "collapsed": true
   },
   "outputs": [],
   "source": [
    "import sys\n",
    "#sys.setrecursionlimit(40000)\n",
    "from tabulate import tabulate\n",
    "from PropertyQueryGraph import *\n",
    "from QuerySystem import *\n",
    "logging.basicConfig(level=logging.ERROR, format='%(asctime)s - %(levelname)s - %(message)s')\n",
    "\n",
    "#Creamos los PQGs definidos en el capítulo\n",
    "q1 = PropertyQueryGraph()\n",
    "q1.addNode(\"a\",True,{},True)\n",
    "q1.addNode(\"b\",True,{},False)\n",
    "q1.addLink(True,[\"a\",\"b\"],\"-[]->\",False)\n",
    "\n",
    "q2 = PropertyQueryGraph()\n",
    "q2.addNode(\"a\",True,{},True)\n",
    "q2.addNode(\"b\",True,{},True)\n",
    "q2.addNode(\"c\",False,{\"gender\":\"male\"},False)\n",
    "q2.addLink(True,[\"a\",\"b\"],\"-[]->\",True)\n",
    "q2.addLink(False,[\"a\",\"c\"],\"-[]->\",False)\n",
    "\n",
    "q3 = PropertyQueryGraph()\n",
    "q3.addNode(\"a\",True,{},False)\n",
    "q3.addNode(\"b\",True,{},False)\n",
    "q3.addNode(\"c\",True,{},False)\n",
    "q3.addNode(\"d\",True,{},True)\n",
    "q3.addLink(True,[\"a\",\"b\"],\"-[]->\",False)\n",
    "q3.addLink(True,[\"a\",\"c\"],\"-[]->\",False)\n",
    "q3.addLink(True,[\"b\",\"d\"],\"-[]->\",False)\n",
    "q3.addLink(True,[\"c\",\"d\"],\"-[]->\",False)\n",
    "\n",
    "q4 = PropertyQueryGraph()\n",
    "q4.addNode(\"a\",True,{\"type\":\"photo\"},True)\n",
    "\n",
    "q5 = PropertyQueryGraph()\n",
    "q5.addNode(\"a\",True,{},True)\n",
    "q5.addNode(\"b\",True,{},False)\n",
    "q5.addLink(True,[\"a\",\"b\"],\"-[:wife]-({gender:'male'})-[:likes]->\",False)\n",
    "\n",
    "q6 = PropertyQueryGraph()\n",
    "q6.addNode(\"a\",True,{},True)\n",
    "q6.addNode(\"b\",True,{},False)\n",
    "q6.addLink(True,[\"a\",\"b\"],\"-[*..]->\",False)\n",
    "\n",
    "#Definimos los usbgrafos sobre los que vamos a consultar (los definidos en el capítulo)\n",
    "s1 = [5]\n",
    "s2 = [4]\n",
    "s3 = [11,12]"
   ]
  },
  {
   "cell_type": "markdown",
   "metadata": {},
   "source": [
    "Creamos el Sistema de Consultas:"
   ]
  },
  {
   "cell_type": "code",
   "execution_count": 2,
   "metadata": {
    "collapsed": false
   },
   "outputs": [],
   "source": [
    "qs = QuerySystem(7474,\"neo4j\",\"123456789\")"
   ]
  },
  {
   "cell_type": "markdown",
   "metadata": {},
   "source": [
    "Como ejemplo consultamos si el subgrafo s3 cumple con el PQG q1. En el atributo relation se guarda la relación que han dado lugar a el cumplimiento del Query:"
   ]
  },
  {
   "cell_type": "code",
   "execution_count": 7,
   "metadata": {
    "collapsed": false
   },
   "outputs": [
    {
     "name": "stdout",
     "output_type": "stream",
     "text": [
      "True\n"
     ]
    },
    {
     "data": {
      "text/plain": [
       "[[{'alpha': True, 'fixed': True, 'label': 'a', 'tetha': {}},\n",
       "  (c55e2be:node {gender:\"female\",name:\"l\",type:\"user\"})],\n",
       " [{'alpha': True, 'fixed': False, 'label': 'b', 'tetha': {}},\n",
       "  (e8d868a:node {name:\"m\",type:\"photo\"})]]"
      ]
     },
     "execution_count": 7,
     "metadata": {},
     "output_type": "execute_result"
    }
   ],
   "source": [
    "print qs.query(q1,s3)\n",
    "qs.relation"
   ]
  },
  {
   "cell_type": "markdown",
   "metadata": {},
   "source": [
    "A continuación creamos de manera automática la misma tabla presentada en el capítulo que muestra el cumplimiento o no de cada subgrafo con cada PQG:"
   ]
  },
  {
   "cell_type": "code",
   "execution_count": 9,
   "metadata": {
    "collapsed": false,
    "scrolled": false
   },
   "outputs": [
    {
     "name": "stdout",
     "output_type": "stream",
     "text": [
      "-  -  -  -  -  -\n",
      "0  0  1  1  0  0\n",
      "1  0  1  0  1  1\n",
      "1  1  1  1  0  1\n",
      "-  -  -  -  -  -\n"
     ]
    }
   ],
   "source": [
    "Q = [q1,q2,q3,q4,q5,q6]\n",
    "S = [s1,s2,s3]\n",
    "\n",
    "l = []\n",
    "\n",
    "for k1,s in enumerate(S):\n",
    "    l.append([])\n",
    "    for k2,q in enumerate(Q):\n",
    "        l[k1].append(qs.query(q,s))\n",
    "            \n",
    "print tabulate(l)"
   ]
  },
  {
   "cell_type": "markdown",
   "metadata": {
    "collapsed": true
   },
   "source": [
    "Se verifica que la implementación está funcionando correctamente, al menos para los ejemplos presentados en el capítulo."
   ]
  }
 ],
 "metadata": {
  "kernelspec": {
   "display_name": "Python 2",
   "language": "python",
   "name": "python2"
  },
  "language_info": {
   "codemirror_mode": {
    "name": "ipython",
    "version": 2
   },
   "file_extension": ".py",
   "mimetype": "text/x-python",
   "name": "python",
   "nbconvert_exporter": "python",
   "pygments_lexer": "ipython2",
   "version": "2.7.6"
  }
 },
 "nbformat": 4,
 "nbformat_minor": 1
}
