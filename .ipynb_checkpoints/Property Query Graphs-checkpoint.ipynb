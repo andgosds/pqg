{
 "cells": [
  {
   "cell_type": "markdown",
   "metadata": {},
   "source": [
    "## Property Query Graphs"
   ]
  },
  {
   "cell_type": "markdown",
   "metadata": {},
   "source": [
    "A continuación presentamos la librería de consulta de patrones en grafos con propiedades \"Property Query Graphs\", la cual realiza consultas de patrones en subgrafos inmersos en una base de datos en grafo Neo4j."
   ]
  },
  {
   "cell_type": "markdown",
   "metadata": {},
   "source": [
    "Cargamos la librería y definimos los PQGs así como los subgrafos presentados en el capitulo"
   ]
  },
  {
   "cell_type": "code",
   "execution_count": 1,
   "metadata": {
    "collapsed": false
   },
   "outputs": [
    {
     "name": "stderr",
     "output_type": "stream",
     "text": [
      "2016-12-07 13:25:49,308 - DEBUG - Creando nodo con query: \n"
     ]
    }
   ],
   "source": [
    "import sys\n",
    "#sys.setrecursionlimit(40000)\n",
    "from tabulate import tabulate\n",
    "from PropertyQueryGraph import *\n",
    "from QuerySystem import *\n",
    "logging.basicConfig(level=logging.DEBUG, format='%(asctime)s - %(levelname)s - %(message)s')\n",
    "\n",
    "#Creamos los PQGs definidos en el capítulo\n",
    "q1 = PropertyQueryGraph()\n",
    "q1.addNode(\"a\",True,{},True)\n",
    "q1.addNode(\"b\",True,{},False)\n",
    "q1.addLink(True,[\"a\",\"b\"],\"-[]->\",False)\n",
    "\n",
    "q2 = PropertyQueryGraph()\n",
    "q2.addNode(\"a\",True,{},True)\n",
    "q2.addNode(\"b\",True,{},True)\n",
    "q2.addNode(\"c\",False,{\"gender\":\"male\"},False)\n",
    "q2.addLink(True,[\"a\",\"b\"],\"-[]->\",True)\n",
    "q2.addLink(False,[\"a\",\"c\"],\"-[]->\",False)\n",
    "\n",
    "q3 = PropertyQueryGraph()\n",
    "q3.addNode(\"a\",True,{},False)\n",
    "q3.addNode(\"b\",True,{},False)\n",
    "q3.addNode(\"c\",True,{},False)\n",
    "q3.addNode(\"d\",True,{},True)\n",
    "q3.addLink(True,[\"a\",\"b\"],\"-[]->\",False)\n",
    "q3.addLink(True,[\"a\",\"c\"],\"-[]->\",False)\n",
    "q3.addLink(True,[\"b\",\"d\"],\"-[]->\",False)\n",
    "q3.addLink(True,[\"c\",\"d\"],\"-[]->\",False)\n",
    "\n",
    "q4 = PropertyQueryGraph()\n",
    "q4.addNode(\"a\",True,{\"type\":\"photo\"},True)\n",
    "\n",
    "q5 = PropertyQueryGraph()\n",
    "q5.addNode(\"a\",True,{},True)\n",
    "q5.addNode(\"b\",True,{},False)\n",
    "q5.addLink(True,[\"a\",\"b\"],\"-[:wife]-({gender:'male'})-[:likes]->\",False)\n",
    "\n",
    "q6 = PropertyQueryGraph()\n",
    "q6.addNode(\"a\",True,{},True)\n",
    "q6.addNode(\"b\",True,{},False)\n",
    "q6.addLink(True,[\"a\",\"b\"],\"-[*..]->\",False)\n",
    "\n",
    "#Definimos los usbgrafos sobre los que vamos a consultar (los definidos en el capítulo)\n",
    "s1 = [5]\n",
    "s2 = [4]\n",
    "s3 = [11,12]"
   ]
  },
  {
   "cell_type": "markdown",
   "metadata": {},
   "source": [
    "Creamos el Sistema de Consultas:"
   ]
  },
  {
   "cell_type": "code",
   "execution_count": 4,
   "metadata": {
    "collapsed": false
   },
   "outputs": [
    {
     "ename": "Unauthorized",
     "evalue": "http://localhost:7474/db/data/",
     "output_type": "error",
     "traceback": [
      "\u001b[1;31m---------------------------------------------------------------------------\u001b[0m",
      "\u001b[1;31mUnauthorized\u001b[0m                              Traceback (most recent call last)",
      "\u001b[1;32m<ipython-input-4-25b194527cee>\u001b[0m in \u001b[0;36m<module>\u001b[1;34m()\u001b[0m\n\u001b[1;32m----> 1\u001b[1;33m \u001b[0mqs\u001b[0m \u001b[1;33m=\u001b[0m \u001b[0mQuerySystem\u001b[0m\u001b[1;33m(\u001b[0m\u001b[1;36m7474\u001b[0m\u001b[1;33m,\u001b[0m\u001b[1;34m\"neo4j\"\u001b[0m\u001b[1;33m,\u001b[0m\u001b[1;34m\"123456789\"\u001b[0m\u001b[1;33m)\u001b[0m\u001b[1;33m\u001b[0m\u001b[0m\n\u001b[0m",
      "\u001b[1;32m/home/pedro/Dropbox/FERNANDO&PEDRO/pqg/QuerySystem.pyc\u001b[0m in \u001b[0;36m__init__\u001b[1;34m(self, port, user, pss)\u001b[0m\n\u001b[0;32m     15\u001b[0m         \u001b[0mself\u001b[0m\u001b[1;33m.\u001b[0m\u001b[0mrelation\u001b[0m \u001b[1;33m=\u001b[0m \u001b[1;33m[\u001b[0m\u001b[1;33m]\u001b[0m\u001b[1;33m\u001b[0m\u001b[0m\n\u001b[0;32m     16\u001b[0m         \u001b[0mself\u001b[0m\u001b[1;33m.\u001b[0m\u001b[0mignorables\u001b[0m \u001b[1;33m=\u001b[0m \u001b[1;33m[\u001b[0m\u001b[1;34m\"name\"\u001b[0m\u001b[1;33m,\u001b[0m\u001b[1;34m\"fixed\"\u001b[0m\u001b[1;33m,\u001b[0m\u001b[1;34m\"alpha\"\u001b[0m\u001b[1;33m,\u001b[0m\u001b[1;34m\"tetha\"\u001b[0m\u001b[1;33m,\u001b[0m\u001b[1;34m\"inverse\"\u001b[0m\u001b[1;33m,\u001b[0m\u001b[1;34m\"other_node\"\u001b[0m\u001b[1;33m]\u001b[0m\u001b[1;33m\u001b[0m\u001b[0m\n\u001b[1;32m---> 17\u001b[1;33m         \u001b[0mself\u001b[0m\u001b[1;33m.\u001b[0m\u001b[0mgraph\u001b[0m \u001b[1;33m=\u001b[0m \u001b[0mGraph\u001b[0m\u001b[1;33m(\u001b[0m\u001b[1;34m\"http://\"\u001b[0m\u001b[1;33m+\u001b[0m\u001b[0mself\u001b[0m\u001b[1;33m.\u001b[0m\u001b[0muser\u001b[0m\u001b[1;33m+\u001b[0m\u001b[1;34m\":\"\u001b[0m\u001b[1;33m+\u001b[0m\u001b[0mself\u001b[0m\u001b[1;33m.\u001b[0m\u001b[0mpss\u001b[0m\u001b[1;33m+\u001b[0m\u001b[1;34m\"@localhost:\"\u001b[0m\u001b[1;33m+\u001b[0m\u001b[0mstr\u001b[0m\u001b[1;33m(\u001b[0m\u001b[0mself\u001b[0m\u001b[1;33m.\u001b[0m\u001b[0mport\u001b[0m\u001b[1;33m)\u001b[0m\u001b[1;33m+\u001b[0m\u001b[1;34m\"/db/data/\"\u001b[0m\u001b[1;33m)\u001b[0m\u001b[1;33m\u001b[0m\u001b[0m\n\u001b[0m\u001b[0;32m     18\u001b[0m \u001b[1;33m\u001b[0m\u001b[0m\n\u001b[0;32m     19\u001b[0m     \u001b[1;32mdef\u001b[0m \u001b[0mquery\u001b[0m\u001b[1;33m(\u001b[0m\u001b[0mself\u001b[0m\u001b[1;33m,\u001b[0m\u001b[0mquery\u001b[0m\u001b[1;33m,\u001b[0m\u001b[0msubgraph_nodes\u001b[0m\u001b[1;33m)\u001b[0m\u001b[1;33m:\u001b[0m\u001b[1;33m\u001b[0m\u001b[0m\n",
      "\u001b[1;32m/usr/local/lib/python2.7/dist-packages/py2neo/database/__init__.pyc\u001b[0m in \u001b[0;36m__new__\u001b[1;34m(cls, *uris, **settings)\u001b[0m\n\u001b[0;32m    325\u001b[0m             \u001b[0muse_bolt\u001b[0m \u001b[1;33m=\u001b[0m \u001b[0maddress\u001b[0m\u001b[1;33m.\u001b[0m\u001b[0mbolt\u001b[0m\u001b[1;33m\u001b[0m\u001b[0m\n\u001b[0;32m    326\u001b[0m             \u001b[1;32mif\u001b[0m \u001b[0muse_bolt\u001b[0m \u001b[1;32mis\u001b[0m \u001b[0mNone\u001b[0m\u001b[1;33m:\u001b[0m\u001b[1;33m\u001b[0m\u001b[0m\n\u001b[1;32m--> 327\u001b[1;33m                 \u001b[0muse_bolt\u001b[0m \u001b[1;33m=\u001b[0m \u001b[0mversion_tuple\u001b[0m\u001b[1;33m(\u001b[0m\u001b[0minst\u001b[0m\u001b[1;33m.\u001b[0m\u001b[0m__remote__\u001b[0m\u001b[1;33m.\u001b[0m\u001b[0mget\u001b[0m\u001b[1;33m(\u001b[0m\u001b[1;33m)\u001b[0m\u001b[1;33m.\u001b[0m\u001b[0mcontent\u001b[0m\u001b[1;33m[\u001b[0m\u001b[1;34m\"neo4j_version\"\u001b[0m\u001b[1;33m]\u001b[0m\u001b[1;33m)\u001b[0m \u001b[1;33m>=\u001b[0m \u001b[1;33m(\u001b[0m\u001b[1;36m3\u001b[0m\u001b[1;33m,\u001b[0m\u001b[1;33m)\u001b[0m\u001b[1;33m\u001b[0m\u001b[0m\n\u001b[0m\u001b[0;32m    328\u001b[0m             \u001b[1;32mif\u001b[0m \u001b[0muse_bolt\u001b[0m\u001b[1;33m:\u001b[0m\u001b[1;33m\u001b[0m\u001b[0m\n\u001b[0;32m    329\u001b[0m                 \u001b[0mauth\u001b[0m \u001b[1;33m=\u001b[0m \u001b[0mget_auth\u001b[0m\u001b[1;33m(\u001b[0m\u001b[0maddress\u001b[0m\u001b[1;33m)\u001b[0m\u001b[1;33m\u001b[0m\u001b[0m\n",
      "\u001b[1;32m/usr/local/lib/python2.7/dist-packages/py2neo/database/http.pyc\u001b[0m in \u001b[0;36mget\u001b[1;34m(self, headers, redirect_limit, **kwargs)\u001b[0m\n\u001b[0;32m    155\u001b[0m         \u001b[1;32mexcept\u001b[0m \u001b[1;33m(\u001b[0m\u001b[0mClientError\u001b[0m\u001b[1;33m,\u001b[0m \u001b[0mServerError\u001b[0m\u001b[1;33m)\u001b[0m \u001b[1;32mas\u001b[0m \u001b[0merror\u001b[0m\u001b[1;33m:\u001b[0m\u001b[1;33m\u001b[0m\u001b[0m\n\u001b[0;32m    156\u001b[0m             \u001b[1;32mif\u001b[0m \u001b[0merror\u001b[0m\u001b[1;33m.\u001b[0m\u001b[0mstatus_code\u001b[0m \u001b[1;33m==\u001b[0m \u001b[0mUNAUTHORIZED\u001b[0m\u001b[1;33m:\u001b[0m\u001b[1;33m\u001b[0m\u001b[0m\n\u001b[1;32m--> 157\u001b[1;33m                 \u001b[1;32mraise\u001b[0m \u001b[0mUnauthorized\u001b[0m\u001b[1;33m(\u001b[0m\u001b[0mself\u001b[0m\u001b[1;33m.\u001b[0m\u001b[0muri\u001b[0m\u001b[1;33m.\u001b[0m\u001b[0mstring\u001b[0m\u001b[1;33m)\u001b[0m\u001b[1;33m\u001b[0m\u001b[0m\n\u001b[0m\u001b[0;32m    158\u001b[0m             \u001b[1;32mif\u001b[0m \u001b[0misinstance\u001b[0m\u001b[1;33m(\u001b[0m\u001b[0merror\u001b[0m\u001b[1;33m,\u001b[0m \u001b[0mJSONResponse\u001b[0m\u001b[1;33m)\u001b[0m\u001b[1;33m:\u001b[0m\u001b[1;33m\u001b[0m\u001b[0m\n\u001b[0;32m    159\u001b[0m                 \u001b[0mcontent\u001b[0m \u001b[1;33m=\u001b[0m \u001b[0mdict\u001b[0m\u001b[1;33m(\u001b[0m\u001b[0merror\u001b[0m\u001b[1;33m.\u001b[0m\u001b[0mcontent\u001b[0m\u001b[1;33m,\u001b[0m \u001b[0mrequest\u001b[0m\u001b[1;33m=\u001b[0m\u001b[0merror\u001b[0m\u001b[1;33m.\u001b[0m\u001b[0mrequest\u001b[0m\u001b[1;33m,\u001b[0m \u001b[0mresponse\u001b[0m\u001b[1;33m=\u001b[0m\u001b[0merror\u001b[0m\u001b[1;33m)\u001b[0m\u001b[1;33m\u001b[0m\u001b[0m\n",
      "\u001b[1;31mUnauthorized\u001b[0m: http://localhost:7474/db/data/"
     ]
    }
   ],
   "source": [
    "qs = QuerySystem(7474,\"neo4j\",\"123456789\")"
   ]
  },
  {
   "cell_type": "markdown",
   "metadata": {},
   "source": [
    "Como ejemplo consultamos si el subgrafo s3 cumple con el PQG q1. En el atributo relation se guarda la relación que han dado lugar a el cumplimiento del Query:"
   ]
  },
  {
   "cell_type": "code",
   "execution_count": 7,
   "metadata": {
    "collapsed": false
   },
   "outputs": [
    {
     "name": "stdout",
     "output_type": "stream",
     "text": [
      "True\n"
     ]
    },
    {
     "data": {
      "text/plain": [
       "[[{'alpha': True, 'fixed': True, 'label': 'a', 'tetha': {}},\n",
       "  (c55e2be:node {gender:\"female\",name:\"l\",type:\"user\"})],\n",
       " [{'alpha': True, 'fixed': False, 'label': 'b', 'tetha': {}},\n",
       "  (e8d868a:node {name:\"m\",type:\"photo\"})]]"
      ]
     },
     "execution_count": 7,
     "metadata": {},
     "output_type": "execute_result"
    }
   ],
   "source": [
    "print qs.query(q1,s3)\n",
    "qs.relation"
   ]
  },
  {
   "cell_type": "markdown",
   "metadata": {},
   "source": [
    "A continuación creamos de manera automática la misma tabla presentada en el capítulo que muestra el cumplimiento o no de cada subgrafo con cada PQG:"
   ]
  },
  {
   "cell_type": "code",
   "execution_count": 9,
   "metadata": {
    "collapsed": false,
    "scrolled": false
   },
   "outputs": [
    {
     "name": "stdout",
     "output_type": "stream",
     "text": [
      "-  -  -  -  -  -\n",
      "0  0  1  1  0  0\n",
      "1  0  1  0  1  1\n",
      "1  1  1  1  0  1\n",
      "-  -  -  -  -  -\n"
     ]
    }
   ],
   "source": [
    "Q = [q1,q2,q3,q4,q5,q6]\n",
    "S = [s1,s2,s3]\n",
    "\n",
    "l = []\n",
    "\n",
    "for k1,s in enumerate(S):\n",
    "    l.append([])\n",
    "    for k2,q in enumerate(Q):\n",
    "        l[k1].append(qs.query(q,s))\n",
    "            \n",
    "print tabulate(l)"
   ]
  },
  {
   "cell_type": "markdown",
   "metadata": {
    "collapsed": true
   },
   "source": [
    "Se verifica que la implementación está funcionando correctamente, al menos para los ejemplos presentados en el capítulo."
   ]
  }
 ],
 "metadata": {
  "kernelspec": {
   "display_name": "Python 2",
   "language": "python",
   "name": "python2"
  },
  "language_info": {
   "codemirror_mode": {
    "name": "ipython",
    "version": 2
   },
   "file_extension": ".py",
   "mimetype": "text/x-python",
   "name": "python",
   "nbconvert_exporter": "python",
   "pygments_lexer": "ipython2",
   "version": "2.7.6"
  }
 },
 "nbformat": 4,
 "nbformat_minor": 1
}
