{
 "cells": [
  {
   "cell_type": "markdown",
   "metadata": {},
   "source": [
    "## Property Query Graphs - ID3"
   ]
  },
  {
   "cell_type": "markdown",
   "metadata": {},
   "source": [
    "AHORA MISMO ESTAMOS TENIENDO PROBLEMA CON LOS QUERY NEGATIVOS, SE PONEN LAS ARISTAS COMO INVERSAS CUANDO NO LO SON! REPASAR ESO! A continuación presentamos el algoritmo de aprendizaje de árboles de decisión multi-relacionales sobre grafos con propiedades \"Property Query Graphs - ID3\", el cual utiliza Property Query Graphs para evaluar atributos de estructuras en grafos que son \"generados\" durante la construcción del árbol. Esta librería construye árboles de decisión clasificadores multi-relacionales a partir de subgrafos inmersos en una base de datos en grafo Neo4j."
   ]
  },
  {
   "cell_type": "markdown",
   "metadata": {},
   "source": [
    "Cargamos la librería y definimos los PQGs así como los subgrafos presentados en el capitulo"
   ]
  },
  {
   "cell_type": "code",
   "execution_count": 1,
   "metadata": {
    "collapsed": false
   },
   "outputs": [],
   "source": [
    "%load_ext autoreload\n",
    "%autoreload 2\n",
    "import sys\n",
    "sys.setrecursionlimit(200)\n",
    "from tabulate import tabulate\n",
    "from PropertyQueryGraph import *\n",
    "from QuerySystem import *\n",
    "from id3 import *\n",
    "from Refinement import *"
   ]
  },
  {
   "cell_type": "code",
   "execution_count": 2,
   "metadata": {
    "collapsed": false,
    "scrolled": false
   },
   "outputs": [
    {
     "name": "stderr",
     "output_type": "stream",
     "text": [
      "2016-12-08 12:59:38,628 - WARNING - Verifying absent edge restrictions..\n",
      "2016-12-08 12:59:38,661 - WARNING - Lista de generos para verificar stopcondition:[u'male', u'male', u'female', u'female', u'male', u'male', u'female', u'female']\n",
      "2016-12-08 12:59:38,705 - WARNING - query_p (evaluando gain) [{'fixed': True, 'alpha': True, 'tetha': {}, 'label': 'a'}, {'fixed': False, 'alpha': True, 'tetha': {}, 'label': '1'}][{'inverse': False, 'alpha': True, 'tetha': u'-[:likes]->', 'gamma': ['a', '1'], 'fixed': False}]\n",
      "2016-12-08 12:59:38,706 - WARNING - Ejemplos a rama positiva (evaluando gain) [[1], [3], [6], [8], [9], [11], [13]]\n",
      "2016-12-08 12:59:38,726 - WARNING - query_n (evaluando gain) [{'fixed': True, 'alpha': True, 'tetha': {}, 'label': 'a'}, {'fixed': False, 'alpha': False, 'tetha': {}, 'label': '1'}][{'inverse': False, 'fixed': False, 'other_node': '1', 'alpha': False, 'tetha': u'-[:likes]->', 'gamma': ['a', '1']}]\n",
      "2016-12-08 12:59:38,727 - WARNING - Ejemplos a rama negativa (evaluando gain) [[4]]\n",
      "2016-12-08 12:59:38,729 - WARNING - query: [{'fixed': True, 'alpha': True, 'tetha': {}, 'label': 'a'}, {'fixed': False, 'alpha': True, 'tetha': {}, 'label': '1'}][{'inverse': False, 'alpha': True, 'tetha': u'-[:likes]->', 'gamma': ['a', '1'], 'fixed': False}]\n",
      "2016-12-08 12:59:38,730 - WARNING - ganancia: 0.0102390758595\n",
      "2016-12-08 12:59:38,743 - WARNING - query_p (evaluando gain) [{'fixed': True, 'alpha': True, 'tetha': {}, 'label': 'a'}, {'fixed': False, 'alpha': True, 'tetha': {}, 'label': '1'}][{'inverse': False, 'alpha': True, 'tetha': u'-[:publish]->', 'gamma': ['a', '1'], 'fixed': False}]\n",
      "2016-12-08 12:59:38,744 - WARNING - Ejemplos a rama positiva (evaluando gain) [[1], [4], [6], [8], [11], [13]]\n",
      "2016-12-08 12:59:38,806 - WARNING - query_n (evaluando gain) [{'fixed': True, 'alpha': True, 'tetha': {}, 'label': 'a'}, {'fixed': False, 'alpha': False, 'tetha': {}, 'label': '1'}][{'inverse': False, 'fixed': False, 'other_node': '1', 'alpha': False, 'tetha': u'-[:publish]->', 'gamma': ['a', '1']}]\n",
      "2016-12-08 12:59:38,806 - WARNING - Ejemplos a rama negativa (evaluando gain) [[3], [9]]\n",
      "2016-12-08 12:59:38,809 - WARNING - query: [{'fixed': True, 'alpha': True, 'tetha': {}, 'label': 'a'}, {'fixed': False, 'alpha': True, 'tetha': {}, 'label': '1'}][{'inverse': False, 'alpha': True, 'tetha': u'-[:publish]->', 'gamma': ['a', '1'], 'fixed': False}]\n",
      "2016-12-08 12:59:38,809 - WARNING - ganancia: 0.0566330122651\n",
      "2016-12-08 12:59:38,819 - WARNING - query_p (evaluando gain) [{'fixed': True, 'alpha': True, 'tetha': {}, 'label': 'a'}, {'fixed': False, 'alpha': True, 'tetha': {}, 'label': '1'}][{'inverse': False, 'alpha': True, 'tetha': u'-[:husband]->', 'gamma': ['a', '1'], 'fixed': False}]\n",
      "2016-12-08 12:59:38,820 - WARNING - Ejemplos a rama positiva (evaluando gain) [[3], [8]]\n",
      "2016-12-08 12:59:38,834 - WARNING - query_n (evaluando gain) [{'fixed': True, 'alpha': True, 'tetha': {}, 'label': 'a'}, {'fixed': False, 'alpha': False, 'tetha': {}, 'label': '1'}][{'inverse': False, 'fixed': False, 'other_node': '1', 'alpha': False, 'tetha': u'-[:husband]->', 'gamma': ['a', '1']}]\n",
      "2016-12-08 12:59:38,835 - WARNING - Ejemplos a rama negativa (evaluando gain) [[1], [4], [6], [9], [11], [13]]\n",
      "2016-12-08 12:59:38,840 - WARNING - query: [{'fixed': True, 'alpha': True, 'tetha': {}, 'label': 'a'}, {'fixed': False, 'alpha': True, 'tetha': {}, 'label': '1'}][{'inverse': False, 'alpha': True, 'tetha': u'-[:husband]->', 'gamma': ['a', '1'], 'fixed': False}]\n",
      "2016-12-08 12:59:38,841 - WARNING - ganancia: 0.0566330122651\n",
      "2016-12-08 12:59:38,858 - WARNING - query_p (evaluando gain) [{'fixed': True, 'alpha': True, 'tetha': {}, 'label': 'a'}, {'fixed': False, 'alpha': True, 'tetha': {}, 'label': '1'}][{'inverse': False, 'alpha': True, 'tetha': u'-[:wife]->', 'gamma': ['a', '1'], 'fixed': False}]\n",
      "2016-12-08 12:59:38,861 - WARNING - Ejemplos a rama positiva (evaluando gain) [[4], [13]]\n",
      "2016-12-08 12:59:38,875 - WARNING - query_n (evaluando gain) [{'fixed': True, 'alpha': True, 'tetha': {}, 'label': 'a'}, {'fixed': False, 'alpha': False, 'tetha': {}, 'label': '1'}][{'inverse': False, 'fixed': False, 'other_node': '1', 'alpha': False, 'tetha': u'-[:wife]->', 'gamma': ['a', '1']}]\n",
      "2016-12-08 12:59:38,876 - WARNING - Ejemplos a rama negativa (evaluando gain) [[1], [3], [6], [8], [9], [11]]\n",
      "2016-12-08 12:59:38,878 - WARNING - query: [{'fixed': True, 'alpha': True, 'tetha': {}, 'label': 'a'}, {'fixed': False, 'alpha': True, 'tetha': {}, 'label': '1'}][{'inverse': False, 'alpha': True, 'tetha': u'-[:wife]->', 'gamma': ['a', '1'], 'fixed': False}]\n",
      "2016-12-08 12:59:38,878 - WARNING - ganancia: 0.0566330122651\n",
      "2016-12-08 12:59:38,890 - WARNING - query_p (evaluando gain) [{'fixed': True, 'alpha': True, 'tetha': {}, 'label': 'a'}, {'fixed': False, 'alpha': True, 'tetha': {}, 'label': '1'}][{'inverse': True, 'alpha': True, 'tetha': u'-[:likes]->', 'gamma': ['1', 'a'], 'fixed': False}]\n",
      "2016-12-08 12:59:38,891 - WARNING - Ejemplos a rama positiva (evaluando gain) []\n",
      "2016-12-08 12:59:38,897 - WARNING - query_n (evaluando gain) [{'fixed': True, 'alpha': True, 'tetha': {}, 'label': 'a'}, {'fixed': False, 'alpha': False, 'tetha': {}, 'label': '1'}][{'inverse': True, 'fixed': False, 'other_node': '1', 'alpha': False, 'tetha': u'-[:likes]->', 'gamma': ['1', 'a']}]\n",
      "2016-12-08 12:59:38,897 - WARNING - Ejemplos a rama negativa (evaluando gain) [[1], [3], [4], [6], [8], [9], [11], [13]]\n",
      "2016-12-08 12:59:38,899 - WARNING - query: [{'fixed': True, 'alpha': True, 'tetha': {}, 'label': 'a'}, {'fixed': False, 'alpha': True, 'tetha': {}, 'label': '1'}][{'inverse': True, 'alpha': True, 'tetha': u'-[:likes]->', 'gamma': ['1', 'a'], 'fixed': False}]\n",
      "2016-12-08 12:59:38,899 - WARNING - ganancia: 0.0\n",
      "2016-12-08 12:59:38,905 - WARNING - query_p (evaluando gain) [{'fixed': True, 'alpha': True, 'tetha': {}, 'label': 'a'}, {'fixed': False, 'alpha': True, 'tetha': {}, 'label': '1'}][{'inverse': True, 'alpha': True, 'tetha': u'-[:publish]->', 'gamma': ['1', 'a'], 'fixed': False}]\n",
      "2016-12-08 12:59:38,906 - WARNING - Ejemplos a rama positiva (evaluando gain) []\n",
      "2016-12-08 12:59:38,912 - WARNING - query_n (evaluando gain) [{'fixed': True, 'alpha': True, 'tetha': {}, 'label': 'a'}, {'fixed': False, 'alpha': False, 'tetha': {}, 'label': '1'}][{'inverse': True, 'fixed': False, 'other_node': '1', 'alpha': False, 'tetha': u'-[:publish]->', 'gamma': ['1', 'a']}]\n",
      "2016-12-08 12:59:38,913 - WARNING - Ejemplos a rama negativa (evaluando gain) [[1], [3], [4], [6], [8], [9], [11], [13]]\n",
      "2016-12-08 12:59:38,914 - WARNING - query: [{'fixed': True, 'alpha': True, 'tetha': {}, 'label': 'a'}, {'fixed': False, 'alpha': True, 'tetha': {}, 'label': '1'}][{'inverse': True, 'alpha': True, 'tetha': u'-[:publish]->', 'gamma': ['1', 'a'], 'fixed': False}]\n",
      "2016-12-08 12:59:38,915 - WARNING - ganancia: 0.0\n",
      "2016-12-08 12:59:38,922 - WARNING - query_p (evaluando gain) [{'fixed': True, 'alpha': True, 'tetha': {}, 'label': 'a'}, {'fixed': False, 'alpha': True, 'tetha': {}, 'label': '1'}][{'inverse': True, 'alpha': True, 'tetha': u'-[:husband]->', 'gamma': ['1', 'a'], 'fixed': False}]\n",
      "2016-12-08 12:59:38,922 - WARNING - Ejemplos a rama positiva (evaluando gain) [[4], [13]]\n",
      "2016-12-08 12:59:38,929 - WARNING - query_n (evaluando gain) [{'fixed': True, 'alpha': True, 'tetha': {}, 'label': 'a'}, {'fixed': False, 'alpha': False, 'tetha': {}, 'label': '1'}][{'inverse': True, 'fixed': False, 'other_node': '1', 'alpha': False, 'tetha': u'-[:husband]->', 'gamma': ['1', 'a']}]\n",
      "2016-12-08 12:59:38,930 - WARNING - Ejemplos a rama negativa (evaluando gain) [[1], [3], [6], [8], [9], [11]]\n",
      "2016-12-08 12:59:38,932 - WARNING - query: [{'fixed': True, 'alpha': True, 'tetha': {}, 'label': 'a'}, {'fixed': False, 'alpha': True, 'tetha': {}, 'label': '1'}][{'inverse': True, 'alpha': True, 'tetha': u'-[:husband]->', 'gamma': ['1', 'a'], 'fixed': False}]\n",
      "2016-12-08 12:59:38,932 - WARNING - ganancia: 0.0566330122651\n",
      "2016-12-08 12:59:38,941 - WARNING - query_p (evaluando gain) [{'fixed': True, 'alpha': True, 'tetha': {}, 'label': 'a'}, {'fixed': False, 'alpha': True, 'tetha': {}, 'label': '1'}][{'inverse': True, 'alpha': True, 'tetha': u'-[:wife]->', 'gamma': ['1', 'a'], 'fixed': False}]\n",
      "2016-12-08 12:59:38,942 - WARNING - Ejemplos a rama positiva (evaluando gain) [[3], [8]]\n",
      "2016-12-08 12:59:38,950 - WARNING - query_n (evaluando gain) [{'fixed': True, 'alpha': True, 'tetha': {}, 'label': 'a'}, {'fixed': False, 'alpha': False, 'tetha': {}, 'label': '1'}][{'inverse': True, 'fixed': False, 'other_node': '1', 'alpha': False, 'tetha': u'-[:wife]->', 'gamma': ['1', 'a']}]\n",
      "2016-12-08 12:59:38,950 - WARNING - Ejemplos a rama negativa (evaluando gain) [[1], [4], [6], [9], [11], [13]]\n",
      "2016-12-08 12:59:38,952 - WARNING - query: [{'fixed': True, 'alpha': True, 'tetha': {}, 'label': 'a'}, {'fixed': False, 'alpha': True, 'tetha': {}, 'label': '1'}][{'inverse': True, 'alpha': True, 'tetha': u'-[:wife]->', 'gamma': ['1', 'a'], 'fixed': False}]\n",
      "2016-12-08 12:59:38,953 - WARNING - ganancia: 0.0566330122651\n",
      "2016-12-08 12:59:38,969 - WARNING - Lista de generos para verificar stopcondition:[u'male', u'female', u'female', u'male', u'female', u'female']\n",
      "2016-12-08 12:59:38,994 - WARNING - query_p (evaluando gain) [{'fixed': True, 'alpha': True, 'tetha': {}, 'label': 'a'}, {'fixed': False, 'alpha': True, 'tetha': {}, 'label': '1'}, {'fixed': False, 'alpha': True, 'tetha': {}, 'label': '2'}][{'inverse': False, 'alpha': True, 'tetha': u'-[:publish]->', 'gamma': ['a', '1'], 'fixed': False}, {'inverse': False, 'alpha': True, 'tetha': u'-[:likes]->', 'gamma': ['a', '2'], 'fixed': False}]\n",
      "2016-12-08 12:59:38,995 - WARNING - Ejemplos a rama positiva (evaluando gain) [[1], [6], [8], [11], [13]]\n",
      "2016-12-08 12:59:39,006 - WARNING - query_n (evaluando gain) [{'fixed': True, 'alpha': True, 'tetha': {}, 'label': 'a'}, {'fixed': False, 'alpha': True, 'tetha': {}, 'label': '1'}, {'fixed': False, 'alpha': False, 'tetha': {}, 'label': '2'}][{'inverse': False, 'alpha': True, 'tetha': u'-[:publish]->', 'gamma': ['a', '1'], 'fixed': False}, {'inverse': False, 'fixed': False, 'other_node': '2', 'alpha': False, 'tetha': u'-[:likes]->', 'gamma': ['a', '2']}]\n",
      "2016-12-08 12:59:39,007 - WARNING - Ejemplos a rama negativa (evaluando gain) [[4]]\n",
      "2016-12-08 12:59:39,009 - WARNING - query: [{'fixed': True, 'alpha': True, 'tetha': {}, 'label': 'a'}, {'fixed': False, 'alpha': True, 'tetha': {}, 'label': '1'}, {'fixed': False, 'alpha': True, 'tetha': {}, 'label': '2'}][{'inverse': False, 'alpha': True, 'tetha': u'-[:publish]->', 'gamma': ['a', '1'], 'fixed': False}, {'inverse': False, 'alpha': True, 'tetha': u'-[:likes]->', 'gamma': ['a', '2'], 'fixed': False}]\n",
      "2016-12-08 12:59:39,009 - WARNING - ganancia: -0.0364974987144\n",
      "2016-12-08 12:59:39,027 - WARNING - query_p (evaluando gain) [{'fixed': True, 'alpha': True, 'tetha': {}, 'label': 'a'}, {'fixed': False, 'alpha': True, 'tetha': {}, 'label': '1'}, {'fixed': False, 'alpha': True, 'tetha': {}, 'label': '2'}][{'inverse': True, 'alpha': True, 'tetha': u'-[:publish]->', 'gamma': ['a', '1'], 'fixed': False}, {'inverse': False, 'alpha': True, 'tetha': u'-[:likes]->', 'gamma': ['1', '2'], 'fixed': False}]\n",
      "2016-12-08 12:59:39,027 - WARNING - Ejemplos a rama positiva (evaluando gain) []\n",
      "2016-12-08 12:59:39,038 - WARNING - query_n (evaluando gain) [{'fixed': True, 'alpha': True, 'tetha': {}, 'label': 'a'}, {'fixed': False, 'alpha': True, 'tetha': {}, 'label': '1'}, {'fixed': False, 'alpha': False, 'tetha': {}, 'label': '2'}][{'inverse': False, 'alpha': True, 'tetha': u'-[:publish]->', 'gamma': ['a', '1'], 'fixed': False}, {'inverse': False, 'fixed': False, 'other_node': '2', 'alpha': False, 'tetha': u'-[:likes]->', 'gamma': ['1', '2']}]\n",
      "2016-12-08 12:59:39,038 - WARNING - Ejemplos a rama negativa (evaluando gain) [[1], [4], [6], [8], [11], [13]]\n",
      "2016-12-08 12:59:39,041 - WARNING - query: [{'fixed': True, 'alpha': True, 'tetha': {}, 'label': 'a'}, {'fixed': False, 'alpha': True, 'tetha': {}, 'label': '1'}, {'fixed': False, 'alpha': True, 'tetha': {}, 'label': '2'}][{'inverse': False, 'alpha': True, 'tetha': u'-[:publish]->', 'gamma': ['a', '1'], 'fixed': False}, {'inverse': False, 'alpha': True, 'tetha': u'-[:likes]->', 'gamma': ['1', '2'], 'fixed': False}]\n",
      "2016-12-08 12:59:39,041 - WARNING - ganancia: 0.0\n",
      "2016-12-08 12:59:39,066 - WARNING - query_p (evaluando gain) [{'fixed': True, 'alpha': True, 'tetha': {}, 'label': 'a'}, {'fixed': False, 'alpha': True, 'tetha': {}, 'label': '1'}, {'fixed': False, 'alpha': True, 'tetha': {}, 'label': '2'}][{'inverse': False, 'alpha': True, 'tetha': u'-[:publish]->', 'gamma': ['a', '1'], 'fixed': False}, {'inverse': False, 'alpha': True, 'tetha': u'-[:publish]->', 'gamma': ['a', '2'], 'fixed': False}]\n",
      "2016-12-08 12:59:39,067 - WARNING - Ejemplos a rama positiva (evaluando gain) [[1], [4], [6], [8], [11], [13]]\n",
      "2016-12-08 12:59:39,076 - WARNING - query_n (evaluando gain) [{'fixed': True, 'alpha': True, 'tetha': {}, 'label': 'a'}, {'fixed': False, 'alpha': True, 'tetha': {}, 'label': '1'}, {'fixed': False, 'alpha': False, 'tetha': {}, 'label': '2'}][{'inverse': False, 'alpha': True, 'tetha': u'-[:publish]->', 'gamma': ['a', '1'], 'fixed': False}, {'inverse': False, 'fixed': False, 'other_node': '2', 'alpha': False, 'tetha': u'-[:publish]->', 'gamma': ['a', '2']}]\n",
      "2016-12-08 12:59:39,077 - WARNING - Ejemplos a rama negativa (evaluando gain) []\n",
      "2016-12-08 12:59:39,079 - WARNING - query: [{'fixed': True, 'alpha': True, 'tetha': {}, 'label': 'a'}, {'fixed': False, 'alpha': True, 'tetha': {}, 'label': '1'}, {'fixed': False, 'alpha': True, 'tetha': {}, 'label': '2'}][{'inverse': False, 'alpha': True, 'tetha': u'-[:publish]->', 'gamma': ['a', '1'], 'fixed': False}, {'inverse': False, 'alpha': True, 'tetha': u'-[:publish]->', 'gamma': ['a', '2'], 'fixed': False}]\n",
      "2016-12-08 12:59:39,079 - WARNING - ganancia: 0.0\n",
      "2016-12-08 12:59:39,096 - WARNING - query_p (evaluando gain) [{'fixed': True, 'alpha': True, 'tetha': {}, 'label': 'a'}, {'fixed': False, 'alpha': True, 'tetha': {}, 'label': '1'}, {'fixed': False, 'alpha': True, 'tetha': {}, 'label': '2'}][{'inverse': True, 'alpha': True, 'tetha': u'-[:publish]->', 'gamma': ['a', '1'], 'fixed': False}, {'inverse': False, 'alpha': True, 'tetha': u'-[:publish]->', 'gamma': ['1', '2'], 'fixed': False}]\n",
      "2016-12-08 12:59:39,097 - WARNING - Ejemplos a rama positiva (evaluando gain) []\n",
      "2016-12-08 12:59:39,107 - WARNING - query_n (evaluando gain) [{'fixed': True, 'alpha': True, 'tetha': {}, 'label': 'a'}, {'fixed': False, 'alpha': True, 'tetha': {}, 'label': '1'}, {'fixed': False, 'alpha': False, 'tetha': {}, 'label': '2'}][{'inverse': False, 'alpha': True, 'tetha': u'-[:publish]->', 'gamma': ['a', '1'], 'fixed': False}, {'inverse': False, 'fixed': False, 'other_node': '2', 'alpha': False, 'tetha': u'-[:publish]->', 'gamma': ['1', '2']}]\n",
      "2016-12-08 12:59:39,108 - WARNING - Ejemplos a rama negativa (evaluando gain) [[1], [4], [6], [8], [11], [13]]\n",
      "2016-12-08 12:59:39,110 - WARNING - query: [{'fixed': True, 'alpha': True, 'tetha': {}, 'label': 'a'}, {'fixed': False, 'alpha': True, 'tetha': {}, 'label': '1'}, {'fixed': False, 'alpha': True, 'tetha': {}, 'label': '2'}][{'inverse': False, 'alpha': True, 'tetha': u'-[:publish]->', 'gamma': ['a', '1'], 'fixed': False}, {'inverse': False, 'alpha': True, 'tetha': u'-[:publish]->', 'gamma': ['1', '2'], 'fixed': False}]\n",
      "2016-12-08 12:59:39,110 - WARNING - ganancia: 0.0\n",
      "2016-12-08 12:59:39,128 - WARNING - query_p (evaluando gain) [{'fixed': True, 'alpha': True, 'tetha': {}, 'label': 'a'}, {'fixed': False, 'alpha': True, 'tetha': {}, 'label': '1'}, {'fixed': False, 'alpha': True, 'tetha': {}, 'label': '2'}][{'inverse': False, 'alpha': True, 'tetha': u'-[:publish]->', 'gamma': ['a', '1'], 'fixed': False}, {'inverse': False, 'alpha': True, 'tetha': u'-[:husband]->', 'gamma': ['a', '2'], 'fixed': False}]\n",
      "2016-12-08 12:59:39,129 - WARNING - Ejemplos a rama positiva (evaluando gain) [[8]]\n",
      "2016-12-08 12:59:39,139 - WARNING - query_n (evaluando gain) [{'fixed': True, 'alpha': True, 'tetha': {}, 'label': 'a'}, {'fixed': False, 'alpha': True, 'tetha': {}, 'label': '1'}, {'fixed': False, 'alpha': False, 'tetha': {}, 'label': '2'}][{'inverse': False, 'alpha': True, 'tetha': u'-[:publish]->', 'gamma': ['a', '1'], 'fixed': False}, {'inverse': False, 'fixed': False, 'other_node': '2', 'alpha': False, 'tetha': u'-[:husband]->', 'gamma': ['a', '2']}]\n",
      "2016-12-08 12:59:39,140 - WARNING - Ejemplos a rama negativa (evaluando gain) [[1], [4], [6], [11], [13]]\n",
      "2016-12-08 12:59:39,142 - WARNING - query: [{'fixed': True, 'alpha': True, 'tetha': {}, 'label': 'a'}, {'fixed': False, 'alpha': True, 'tetha': {}, 'label': '1'}, {'fixed': False, 'alpha': True, 'tetha': {}, 'label': '2'}][{'inverse': False, 'alpha': True, 'tetha': u'-[:publish]->', 'gamma': ['a', '1'], 'fixed': False}, {'inverse': False, 'alpha': True, 'tetha': u'-[:husband]->', 'gamma': ['a', '2'], 'fixed': False}]\n",
      "2016-12-08 12:59:39,142 - WARNING - ganancia: 0.136111744757\n",
      "2016-12-08 12:59:39,184 - WARNING - query_p (evaluando gain) [{'fixed': True, 'alpha': True, 'tetha': {}, 'label': 'a'}, {'fixed': False, 'alpha': True, 'tetha': {}, 'label': '1'}, {'fixed': False, 'alpha': True, 'tetha': {}, 'label': '2'}][{'inverse': True, 'alpha': True, 'tetha': u'-[:publish]->', 'gamma': ['a', '1'], 'fixed': False}, {'inverse': False, 'alpha': True, 'tetha': u'-[:husband]->', 'gamma': ['1', '2'], 'fixed': False}]\n",
      "2016-12-08 12:59:39,185 - WARNING - Ejemplos a rama positiva (evaluando gain) []\n",
      "2016-12-08 12:59:39,198 - WARNING - query_n (evaluando gain) [{'fixed': True, 'alpha': True, 'tetha': {}, 'label': 'a'}, {'fixed': False, 'alpha': True, 'tetha': {}, 'label': '1'}, {'fixed': False, 'alpha': False, 'tetha': {}, 'label': '2'}][{'inverse': False, 'alpha': True, 'tetha': u'-[:publish]->', 'gamma': ['a', '1'], 'fixed': False}, {'inverse': False, 'fixed': False, 'other_node': '2', 'alpha': False, 'tetha': u'-[:husband]->', 'gamma': ['1', '2']}]\n",
      "2016-12-08 12:59:39,199 - WARNING - Ejemplos a rama negativa (evaluando gain) [[1], [4], [6], [8], [11], [13]]\n",
      "2016-12-08 12:59:39,201 - WARNING - query: [{'fixed': True, 'alpha': True, 'tetha': {}, 'label': 'a'}, {'fixed': False, 'alpha': True, 'tetha': {}, 'label': '1'}, {'fixed': False, 'alpha': True, 'tetha': {}, 'label': '2'}][{'inverse': False, 'alpha': True, 'tetha': u'-[:publish]->', 'gamma': ['a', '1'], 'fixed': False}, {'inverse': False, 'alpha': True, 'tetha': u'-[:husband]->', 'gamma': ['1', '2'], 'fixed': False}]\n",
      "2016-12-08 12:59:39,202 - WARNING - ganancia: 0.0\n",
      "2016-12-08 12:59:39,241 - WARNING - query_p (evaluando gain) [{'fixed': True, 'alpha': True, 'tetha': {}, 'label': 'a'}, {'fixed': False, 'alpha': True, 'tetha': {}, 'label': '1'}, {'fixed': False, 'alpha': True, 'tetha': {}, 'label': '2'}][{'inverse': False, 'alpha': True, 'tetha': u'-[:publish]->', 'gamma': ['a', '1'], 'fixed': False}, {'inverse': False, 'alpha': True, 'tetha': u'-[:wife]->', 'gamma': ['a', '2'], 'fixed': False}]\n",
      "2016-12-08 12:59:39,242 - WARNING - Ejemplos a rama positiva (evaluando gain) [[4], [13]]\n",
      "2016-12-08 12:59:39,251 - WARNING - query_n (evaluando gain) [{'fixed': True, 'alpha': True, 'tetha': {}, 'label': 'a'}, {'fixed': False, 'alpha': True, 'tetha': {}, 'label': '1'}, {'fixed': False, 'alpha': False, 'tetha': {}, 'label': '2'}][{'inverse': False, 'alpha': True, 'tetha': u'-[:publish]->', 'gamma': ['a', '1'], 'fixed': False}, {'inverse': False, 'fixed': False, 'other_node': '2', 'alpha': False, 'tetha': u'-[:wife]->', 'gamma': ['a', '2']}]\n",
      "2016-12-08 12:59:39,251 - WARNING - Ejemplos a rama negativa (evaluando gain) [[1], [6], [8], [11]]\n",
      "2016-12-08 12:59:39,253 - WARNING - query: [{'fixed': True, 'alpha': True, 'tetha': {}, 'label': 'a'}, {'fixed': False, 'alpha': True, 'tetha': {}, 'label': '1'}, {'fixed': False, 'alpha': True, 'tetha': {}, 'label': '2'}][{'inverse': False, 'alpha': True, 'tetha': u'-[:publish]->', 'gamma': ['a', '1'], 'fixed': False}, {'inverse': False, 'alpha': True, 'tetha': u'-[:wife]->', 'gamma': ['a', '2'], 'fixed': False}]\n",
      "2016-12-08 12:59:39,254 - WARNING - ganancia: -0.0566330122651\n",
      "2016-12-08 12:59:39,282 - WARNING - query_p (evaluando gain) [{'fixed': True, 'alpha': True, 'tetha': {}, 'label': 'a'}, {'fixed': False, 'alpha': True, 'tetha': {}, 'label': '1'}, {'fixed': False, 'alpha': True, 'tetha': {}, 'label': '2'}][{'inverse': True, 'alpha': True, 'tetha': u'-[:publish]->', 'gamma': ['a', '1'], 'fixed': False}, {'inverse': False, 'alpha': True, 'tetha': u'-[:wife]->', 'gamma': ['1', '2'], 'fixed': False}]\n",
      "2016-12-08 12:59:39,283 - WARNING - Ejemplos a rama positiva (evaluando gain) []\n",
      "2016-12-08 12:59:39,292 - WARNING - query_n (evaluando gain) [{'fixed': True, 'alpha': True, 'tetha': {}, 'label': 'a'}, {'fixed': False, 'alpha': True, 'tetha': {}, 'label': '1'}, {'fixed': False, 'alpha': False, 'tetha': {}, 'label': '2'}][{'inverse': False, 'alpha': True, 'tetha': u'-[:publish]->', 'gamma': ['a', '1'], 'fixed': False}, {'inverse': False, 'fixed': False, 'other_node': '2', 'alpha': False, 'tetha': u'-[:wife]->', 'gamma': ['1', '2']}]\n",
      "2016-12-08 12:59:39,293 - WARNING - Ejemplos a rama negativa (evaluando gain) [[1], [4], [6], [8], [11], [13]]\n",
      "2016-12-08 12:59:39,295 - WARNING - query: [{'fixed': True, 'alpha': True, 'tetha': {}, 'label': 'a'}, {'fixed': False, 'alpha': True, 'tetha': {}, 'label': '1'}, {'fixed': False, 'alpha': True, 'tetha': {}, 'label': '2'}][{'inverse': False, 'alpha': True, 'tetha': u'-[:publish]->', 'gamma': ['a', '1'], 'fixed': False}, {'inverse': False, 'alpha': True, 'tetha': u'-[:wife]->', 'gamma': ['1', '2'], 'fixed': False}]\n",
      "2016-12-08 12:59:39,295 - WARNING - ganancia: 0.0\n",
      "2016-12-08 12:59:39,309 - WARNING - query_p (evaluando gain) [{'fixed': True, 'alpha': True, 'tetha': {}, 'label': 'a'}, {'fixed': False, 'alpha': True, 'tetha': {}, 'label': '1'}, {'fixed': False, 'alpha': True, 'tetha': {}, 'label': '2'}][{'inverse': False, 'alpha': True, 'tetha': u'-[:publish]->', 'gamma': ['a', '1'], 'fixed': False}, {'inverse': True, 'alpha': True, 'tetha': u'-[:likes]->', 'gamma': ['2', 'a'], 'fixed': False}]\n",
      "2016-12-08 12:59:39,309 - WARNING - Ejemplos a rama positiva (evaluando gain) []\n",
      "2016-12-08 12:59:39,320 - WARNING - query_n (evaluando gain) [{'fixed': True, 'alpha': True, 'tetha': {}, 'label': 'a'}, {'fixed': False, 'alpha': True, 'tetha': {}, 'label': '1'}, {'fixed': False, 'alpha': False, 'tetha': {}, 'label': '2'}][{'inverse': False, 'alpha': True, 'tetha': u'-[:publish]->', 'gamma': ['a', '1'], 'fixed': False}, {'inverse': True, 'fixed': False, 'other_node': '2', 'alpha': False, 'tetha': u'-[:likes]->', 'gamma': ['2', 'a']}]\n",
      "2016-12-08 12:59:39,320 - WARNING - Ejemplos a rama negativa (evaluando gain) [[1], [4], [6], [8], [11], [13]]\n",
      "2016-12-08 12:59:39,322 - WARNING - query: [{'fixed': True, 'alpha': True, 'tetha': {}, 'label': 'a'}, {'fixed': False, 'alpha': True, 'tetha': {}, 'label': '1'}, {'fixed': False, 'alpha': True, 'tetha': {}, 'label': '2'}][{'inverse': False, 'alpha': True, 'tetha': u'-[:publish]->', 'gamma': ['a', '1'], 'fixed': False}, {'inverse': True, 'alpha': True, 'tetha': u'-[:likes]->', 'gamma': ['2', 'a'], 'fixed': False}]\n",
      "2016-12-08 12:59:39,323 - WARNING - ganancia: 0.0\n",
      "2016-12-08 12:59:39,342 - WARNING - query_p (evaluando gain) [{'fixed': True, 'alpha': True, 'tetha': {}, 'label': 'a'}, {'fixed': False, 'alpha': True, 'tetha': {}, 'label': '1'}, {'fixed': False, 'alpha': True, 'tetha': {}, 'label': '2'}][{'inverse': True, 'alpha': True, 'tetha': u'-[:publish]->', 'gamma': ['a', '1'], 'fixed': False}, {'inverse': True, 'alpha': True, 'tetha': u'-[:likes]->', 'gamma': ['2', '1'], 'fixed': False}]\n",
      "2016-12-08 12:59:39,343 - WARNING - Ejemplos a rama positiva (evaluando gain) [[4], [6], [11], [13]]\n",
      "2016-12-08 12:59:39,355 - WARNING - query_n (evaluando gain) [{'fixed': True, 'alpha': True, 'tetha': {}, 'label': 'a'}, {'fixed': False, 'alpha': True, 'tetha': {}, 'label': '1'}, {'fixed': False, 'alpha': False, 'tetha': {}, 'label': '2'}][{'inverse': False, 'alpha': True, 'tetha': u'-[:publish]->', 'gamma': ['a', '1'], 'fixed': False}, {'inverse': True, 'fixed': False, 'other_node': '2', 'alpha': False, 'tetha': u'-[:likes]->', 'gamma': ['2', '1']}]\n",
      "2016-12-08 12:59:39,356 - WARNING - Ejemplos a rama negativa (evaluando gain) [[1], [8]]\n",
      "2016-12-08 12:59:39,357 - WARNING - query: [{'fixed': True, 'alpha': True, 'tetha': {}, 'label': 'a'}, {'fixed': False, 'alpha': True, 'tetha': {}, 'label': '1'}, {'fixed': False, 'alpha': True, 'tetha': {}, 'label': '2'}][{'inverse': False, 'alpha': True, 'tetha': u'-[:publish]->', 'gamma': ['a', '1'], 'fixed': False}, {'inverse': True, 'alpha': True, 'tetha': u'-[:likes]->', 'gamma': ['2', '1'], 'fixed': False}]\n",
      "2016-12-08 12:59:39,358 - WARNING - ganancia: 0.636514168295\n",
      "2016-12-08 12:59:39,371 - WARNING - query_p (evaluando gain) [{'fixed': True, 'alpha': True, 'tetha': {}, 'label': 'a'}, {'fixed': False, 'alpha': True, 'tetha': {}, 'label': '1'}, {'fixed': False, 'alpha': True, 'tetha': {}, 'label': '2'}][{'inverse': False, 'alpha': True, 'tetha': u'-[:publish]->', 'gamma': ['a', '1'], 'fixed': False}, {'inverse': True, 'alpha': True, 'tetha': u'-[:publish]->', 'gamma': ['2', 'a'], 'fixed': False}]\n",
      "2016-12-08 12:59:39,372 - WARNING - Ejemplos a rama positiva (evaluando gain) []\n",
      "2016-12-08 12:59:39,382 - WARNING - query_n (evaluando gain) [{'fixed': True, 'alpha': True, 'tetha': {}, 'label': 'a'}, {'fixed': False, 'alpha': True, 'tetha': {}, 'label': '1'}, {'fixed': False, 'alpha': False, 'tetha': {}, 'label': '2'}][{'inverse': False, 'alpha': True, 'tetha': u'-[:publish]->', 'gamma': ['a', '1'], 'fixed': False}, {'inverse': True, 'fixed': False, 'other_node': '2', 'alpha': False, 'tetha': u'-[:publish]->', 'gamma': ['2', 'a']}]\n",
      "2016-12-08 12:59:39,383 - WARNING - Ejemplos a rama negativa (evaluando gain) [[1], [4], [6], [8], [11], [13]]\n",
      "2016-12-08 12:59:39,386 - WARNING - query: [{'fixed': True, 'alpha': True, 'tetha': {}, 'label': 'a'}, {'fixed': False, 'alpha': True, 'tetha': {}, 'label': '1'}, {'fixed': False, 'alpha': True, 'tetha': {}, 'label': '2'}][{'inverse': False, 'alpha': True, 'tetha': u'-[:publish]->', 'gamma': ['a', '1'], 'fixed': False}, {'inverse': True, 'alpha': True, 'tetha': u'-[:publish]->', 'gamma': ['2', 'a'], 'fixed': False}]\n",
      "2016-12-08 12:59:39,387 - WARNING - ganancia: 0.0\n",
      "2016-12-08 12:59:39,404 - WARNING - query_p (evaluando gain) [{'fixed': True, 'alpha': True, 'tetha': {}, 'label': 'a'}, {'fixed': False, 'alpha': True, 'tetha': {}, 'label': '1'}, {'fixed': False, 'alpha': True, 'tetha': {}, 'label': '2'}][{'inverse': True, 'alpha': True, 'tetha': u'-[:publish]->', 'gamma': ['a', '1'], 'fixed': False}, {'inverse': True, 'alpha': True, 'tetha': u'-[:publish]->', 'gamma': ['2', '1'], 'fixed': False}]\n",
      "2016-12-08 12:59:39,405 - WARNING - Ejemplos a rama positiva (evaluando gain) [[1], [4], [6], [8], [11], [13]]\n",
      "2016-12-08 12:59:39,418 - WARNING - query_n (evaluando gain) [{'fixed': True, 'alpha': True, 'tetha': {}, 'label': 'a'}, {'fixed': False, 'alpha': True, 'tetha': {}, 'label': '1'}, {'fixed': False, 'alpha': False, 'tetha': {}, 'label': '2'}][{'inverse': False, 'alpha': True, 'tetha': u'-[:publish]->', 'gamma': ['a', '1'], 'fixed': False}, {'inverse': True, 'fixed': False, 'other_node': '2', 'alpha': False, 'tetha': u'-[:publish]->', 'gamma': ['2', '1']}]\n",
      "2016-12-08 12:59:39,419 - WARNING - Ejemplos a rama negativa (evaluando gain) []\n",
      "2016-12-08 12:59:39,420 - WARNING - query: [{'fixed': True, 'alpha': True, 'tetha': {}, 'label': 'a'}, {'fixed': False, 'alpha': True, 'tetha': {}, 'label': '1'}, {'fixed': False, 'alpha': True, 'tetha': {}, 'label': '2'}][{'inverse': False, 'alpha': True, 'tetha': u'-[:publish]->', 'gamma': ['a', '1'], 'fixed': False}, {'inverse': True, 'alpha': True, 'tetha': u'-[:publish]->', 'gamma': ['2', '1'], 'fixed': False}]\n",
      "2016-12-08 12:59:39,421 - WARNING - ganancia: 0.0\n",
      "2016-12-08 12:59:39,436 - WARNING - query_p (evaluando gain) [{'fixed': True, 'alpha': True, 'tetha': {}, 'label': 'a'}, {'fixed': False, 'alpha': True, 'tetha': {}, 'label': '1'}, {'fixed': False, 'alpha': True, 'tetha': {}, 'label': '2'}][{'inverse': False, 'alpha': True, 'tetha': u'-[:publish]->', 'gamma': ['a', '1'], 'fixed': False}, {'inverse': True, 'alpha': True, 'tetha': u'-[:husband]->', 'gamma': ['2', 'a'], 'fixed': False}]\n",
      "2016-12-08 12:59:39,437 - WARNING - Ejemplos a rama positiva (evaluando gain) [[4], [13]]\n",
      "2016-12-08 12:59:39,446 - WARNING - query_n (evaluando gain) [{'fixed': True, 'alpha': True, 'tetha': {}, 'label': 'a'}, {'fixed': False, 'alpha': True, 'tetha': {}, 'label': '1'}, {'fixed': False, 'alpha': False, 'tetha': {}, 'label': '2'}][{'inverse': False, 'alpha': True, 'tetha': u'-[:publish]->', 'gamma': ['a', '1'], 'fixed': False}, {'inverse': True, 'fixed': False, 'other_node': '2', 'alpha': False, 'tetha': u'-[:husband]->', 'gamma': ['2', 'a']}]\n",
      "2016-12-08 12:59:39,447 - WARNING - Ejemplos a rama negativa (evaluando gain) [[1], [6], [8], [11]]\n",
      "2016-12-08 12:59:39,449 - WARNING - query: [{'fixed': True, 'alpha': True, 'tetha': {}, 'label': 'a'}, {'fixed': False, 'alpha': True, 'tetha': {}, 'label': '1'}, {'fixed': False, 'alpha': True, 'tetha': {}, 'label': '2'}][{'inverse': False, 'alpha': True, 'tetha': u'-[:publish]->', 'gamma': ['a', '1'], 'fixed': False}, {'inverse': True, 'alpha': True, 'tetha': u'-[:husband]->', 'gamma': ['2', 'a'], 'fixed': False}]\n",
      "2016-12-08 12:59:39,449 - WARNING - ganancia: -0.0566330122651\n",
      "2016-12-08 12:59:39,487 - WARNING - query_p (evaluando gain) [{'fixed': True, 'alpha': True, 'tetha': {}, 'label': 'a'}, {'fixed': False, 'alpha': True, 'tetha': {}, 'label': '1'}, {'fixed': False, 'alpha': True, 'tetha': {}, 'label': '2'}][{'inverse': True, 'alpha': True, 'tetha': u'-[:publish]->', 'gamma': ['a', '1'], 'fixed': False}, {'inverse': True, 'alpha': True, 'tetha': u'-[:husband]->', 'gamma': ['2', '1'], 'fixed': False}]\n",
      "2016-12-08 12:59:39,488 - WARNING - Ejemplos a rama positiva (evaluando gain) []\n",
      "2016-12-08 12:59:39,499 - WARNING - query_n (evaluando gain) [{'fixed': True, 'alpha': True, 'tetha': {}, 'label': 'a'}, {'fixed': False, 'alpha': True, 'tetha': {}, 'label': '1'}, {'fixed': False, 'alpha': False, 'tetha': {}, 'label': '2'}][{'inverse': False, 'alpha': True, 'tetha': u'-[:publish]->', 'gamma': ['a', '1'], 'fixed': False}, {'inverse': True, 'fixed': False, 'other_node': '2', 'alpha': False, 'tetha': u'-[:husband]->', 'gamma': ['2', '1']}]\n",
      "2016-12-08 12:59:39,500 - WARNING - Ejemplos a rama negativa (evaluando gain) [[1], [4], [6], [8], [11], [13]]\n",
      "2016-12-08 12:59:39,502 - WARNING - query: [{'fixed': True, 'alpha': True, 'tetha': {}, 'label': 'a'}, {'fixed': False, 'alpha': True, 'tetha': {}, 'label': '1'}, {'fixed': False, 'alpha': True, 'tetha': {}, 'label': '2'}][{'inverse': False, 'alpha': True, 'tetha': u'-[:publish]->', 'gamma': ['a', '1'], 'fixed': False}, {'inverse': True, 'alpha': True, 'tetha': u'-[:husband]->', 'gamma': ['2', '1'], 'fixed': False}]\n",
      "2016-12-08 12:59:39,503 - WARNING - ganancia: 0.0\n",
      "2016-12-08 12:59:39,517 - WARNING - query_p (evaluando gain) [{'fixed': True, 'alpha': True, 'tetha': {}, 'label': 'a'}, {'fixed': False, 'alpha': True, 'tetha': {}, 'label': '1'}, {'fixed': False, 'alpha': True, 'tetha': {}, 'label': '2'}][{'inverse': False, 'alpha': True, 'tetha': u'-[:publish]->', 'gamma': ['a', '1'], 'fixed': False}, {'inverse': True, 'alpha': True, 'tetha': u'-[:wife]->', 'gamma': ['2', 'a'], 'fixed': False}]\n",
      "2016-12-08 12:59:39,518 - WARNING - Ejemplos a rama positiva (evaluando gain) [[8]]\n",
      "2016-12-08 12:59:39,529 - WARNING - query_n (evaluando gain) [{'fixed': True, 'alpha': True, 'tetha': {}, 'label': 'a'}, {'fixed': False, 'alpha': True, 'tetha': {}, 'label': '1'}, {'fixed': False, 'alpha': False, 'tetha': {}, 'label': '2'}][{'inverse': False, 'alpha': True, 'tetha': u'-[:publish]->', 'gamma': ['a', '1'], 'fixed': False}, {'inverse': True, 'fixed': False, 'other_node': '2', 'alpha': False, 'tetha': u'-[:wife]->', 'gamma': ['2', 'a']}]\n",
      "2016-12-08 12:59:39,530 - WARNING - Ejemplos a rama negativa (evaluando gain) [[1], [4], [6], [11], [13]]\n",
      "2016-12-08 12:59:39,532 - WARNING - query: [{'fixed': True, 'alpha': True, 'tetha': {}, 'label': 'a'}, {'fixed': False, 'alpha': True, 'tetha': {}, 'label': '1'}, {'fixed': False, 'alpha': True, 'tetha': {}, 'label': '2'}][{'inverse': False, 'alpha': True, 'tetha': u'-[:publish]->', 'gamma': ['a', '1'], 'fixed': False}, {'inverse': True, 'alpha': True, 'tetha': u'-[:wife]->', 'gamma': ['2', 'a'], 'fixed': False}]\n",
      "2016-12-08 12:59:39,533 - WARNING - ganancia: 0.136111744757\n",
      "2016-12-08 12:59:39,548 - WARNING - query_p (evaluando gain) [{'fixed': True, 'alpha': True, 'tetha': {}, 'label': 'a'}, {'fixed': False, 'alpha': True, 'tetha': {}, 'label': '1'}, {'fixed': False, 'alpha': True, 'tetha': {}, 'label': '2'}][{'inverse': True, 'alpha': True, 'tetha': u'-[:publish]->', 'gamma': ['a', '1'], 'fixed': False}, {'inverse': True, 'alpha': True, 'tetha': u'-[:wife]->', 'gamma': ['2', '1'], 'fixed': False}]\n",
      "2016-12-08 12:59:39,549 - WARNING - Ejemplos a rama positiva (evaluando gain) []\n",
      "2016-12-08 12:59:39,558 - WARNING - query_n (evaluando gain) [{'fixed': True, 'alpha': True, 'tetha': {}, 'label': 'a'}, {'fixed': False, 'alpha': True, 'tetha': {}, 'label': '1'}, {'fixed': False, 'alpha': False, 'tetha': {}, 'label': '2'}][{'inverse': False, 'alpha': True, 'tetha': u'-[:publish]->', 'gamma': ['a', '1'], 'fixed': False}, {'inverse': True, 'fixed': False, 'other_node': '2', 'alpha': False, 'tetha': u'-[:wife]->', 'gamma': ['2', '1']}]\n",
      "2016-12-08 12:59:39,559 - WARNING - Ejemplos a rama negativa (evaluando gain) [[1], [4], [6], [8], [11], [13]]\n",
      "2016-12-08 12:59:39,560 - WARNING - query: [{'fixed': True, 'alpha': True, 'tetha': {}, 'label': 'a'}, {'fixed': False, 'alpha': True, 'tetha': {}, 'label': '1'}, {'fixed': False, 'alpha': True, 'tetha': {}, 'label': '2'}][{'inverse': False, 'alpha': True, 'tetha': u'-[:publish]->', 'gamma': ['a', '1'], 'fixed': False}, {'inverse': True, 'alpha': True, 'tetha': u'-[:wife]->', 'gamma': ['2', '1'], 'fixed': False}]\n",
      "2016-12-08 12:59:39,561 - WARNING - ganancia: 0.0\n",
      "2016-12-08 12:59:39,595 - WARNING - Lista de generos para verificar stopcondition:[u'female', u'female', u'female', u'female']\n",
      "2016-12-08 12:59:39,598 - WARNING - Lista de generos para verificar stopcondition:[u'male', u'male']\n",
      "2016-12-08 12:59:39,600 - WARNING - Lista de generos para verificar stopcondition:[u'male', u'male']\n"
     ]
    },
    {
     "name": "stdout",
     "output_type": "stream",
     "text": [
      "[{'fixed': True, 'alpha': True, 'tetha': {}, 'label': 'a'}, {'fixed': False, 'alpha': True, 'tetha': {}, 'label': '1'}][{'inverse': False, 'alpha': True, 'tetha': u'-[:publish]->', 'gamma': ['a', '1'], 'fixed': False}][[1], [3], [4], [6], [8], [9], [11], [13]]\n",
      "\n",
      "     [{'fixed': True, 'alpha': True, 'tetha': {}, 'label': 'a'}, {'fixed': False, 'alpha': True, 'tetha': {}, 'label': '1'}, {'fixed': False, 'alpha': True, 'tetha': {}, 'label': '2'}][{'inverse': False, 'alpha': True, 'tetha': u'-[:publish]->', 'gamma': ['a', '1'], 'fixed': False}, {'inverse': True, 'alpha': True, 'tetha': u'-[:likes]->', 'gamma': ['2', '1'], 'fixed': False}][[1], [4], [6], [8], [11], [13]]\n",
      "\n",
      "          Nonefemale[[4], [6], [11], [13]]\n",
      "\n",
      "          Nonemale[[1], [8]]\n",
      "\n",
      "     Nonemale[[3], [9]]\n",
      "\n",
      "\n"
     ]
    }
   ],
   "source": [
    "import sys\n",
    "logging.basicConfig(level=logging.WARNING, format='%(asctime)s - %(levelname)s - %(message)s')\n",
    "\n",
    "sys.setrecursionlimit(200)\n",
    "from tabulate import tabulate\n",
    "from PropertyQueryGraph import *\n",
    "from QuerySystem import *\n",
    "from id3 import *\n",
    "from Refinement import *\n",
    "logging.warn(\"Verifying absent edge restrictions..\")\n",
    "modelo = id3(\"gender\",[\"a\",\"b\"])\n",
    "\n",
    "q = PropertyQueryGraph()\n",
    "q.addNode(\"a\",True,{},True)\n",
    "logging.debug(\"Creando nodo con query: \")\n",
    "#En Casa\n",
    "#arbol = modelo.execute(q , [[2],[4],[5],[7],[9],[10],[12],[14]])\n",
    "#En UCE\n",
    "arbol = modelo.execute(q , [[1],[3],[4],[6],[8],[9],[11],[13]])\n",
    "print arbol.str1(0,nx.Graph(),str(q))\n",
    "\n",
    "#,5,7,9,10,12,14]"
   ]
  },
  {
   "cell_type": "code",
   "execution_count": 6,
   "metadata": {
    "collapsed": false
   },
   "outputs": [
    {
     "name": "stdout",
     "output_type": "stream",
     "text": [
      "male\n"
     ]
    }
   ],
   "source": [
    "print arbol.left.data"
   ]
  },
  {
   "cell_type": "code",
   "execution_count": 5,
   "metadata": {
    "collapsed": false
   },
   "outputs": [
    {
     "name": "stdout",
     "output_type": "stream",
     "text": [
      "a\n",
      "b\n"
     ]
    }
   ],
   "source": [
    "print \"a\\nb\""
   ]
  },
  {
   "cell_type": "code",
   "execution_count": null,
   "metadata": {
    "collapsed": true
   },
   "outputs": [],
   "source": [
    "from PropertyQueryGraph import *"
   ]
  },
  {
   "cell_type": "code",
   "execution_count": 1,
   "metadata": {
    "collapsed": false
   },
   "outputs": [
    {
     "data": {
      "text/plain": [
       "'f30f5eb3957f47fdb76b4b3f2d560a04'"
      ]
     },
     "execution_count": 1,
     "metadata": {},
     "output_type": "execute_result"
    }
   ],
   "source": [
    "import uuid\n",
    "uuid.uuid4().hex"
   ]
  },
  {
   "cell_type": "code",
   "execution_count": 2,
   "metadata": {
    "collapsed": true
   },
   "outputs": [],
   "source": [
    "q = PropertyQueryGraph()\n",
    "q.addNode(\"a\",True,{},True)"
   ]
  },
  {
   "cell_type": "code",
   "execution_count": 5,
   "metadata": {
    "collapsed": false
   },
   "outputs": [],
   "source": [
    "r = Refinement(\"c\",q.nodes[0])"
   ]
  },
  {
   "cell_type": "code",
   "execution_count": 6,
   "metadata": {
    "collapsed": false
   },
   "outputs": [],
   "source": [
    "p = r.refine(q)"
   ]
  },
  {
   "cell_type": "code",
   "execution_count": 13,
   "metadata": {
    "collapsed": false
   },
   "outputs": [
    {
     "data": {
      "text/plain": [
       "[{'alpha': True, 'fixed': True, 'label': 'a', 'tetha': {}},\n",
       " {'alpha': False,\n",
       "  'fixed': False,\n",
       "  'label': '95b087c493e245c5918fe49f48e3c399',\n",
       "  'tetha': {}}]"
      ]
     },
     "execution_count": 13,
     "metadata": {},
     "output_type": "execute_result"
    }
   ],
   "source": [
    "p.nodes\n"
   ]
  },
  {
   "cell_type": "code",
   "execution_count": 12,
   "metadata": {
    "collapsed": false
   },
   "outputs": [
    {
     "data": {
      "text/plain": [
       "[]"
      ]
     },
     "execution_count": 12,
     "metadata": {},
     "output_type": "execute_result"
    }
   ],
   "source": [
    "q.nodes\n",
    "q.links"
   ]
  }
 ],
 "metadata": {
  "kernelspec": {
   "display_name": "Python 2",
   "language": "python",
   "name": "python2"
  },
  "language_info": {
   "codemirror_mode": {
    "name": "ipython",
    "version": 2
   },
   "file_extension": ".py",
   "mimetype": "text/x-python",
   "name": "python",
   "nbconvert_exporter": "python",
   "pygments_lexer": "ipython2",
   "version": "2.7.6"
  }
 },
 "nbformat": 4,
 "nbformat_minor": 1
}
