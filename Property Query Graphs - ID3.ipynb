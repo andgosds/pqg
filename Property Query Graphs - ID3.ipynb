{
 "cells": [
  {
   "cell_type": "markdown",
   "metadata": {},
   "source": [
    "## Property Query Graphs - ID3"
   ]
  },
  {
   "cell_type": "markdown",
   "metadata": {},
   "source": [
    "A continuación presentamos el algoritmo de aprendizaje de árboles de decisión multi-relacionales sobre grafos con propiedades \"Property Query Graphs - ID3\", el cual utiliza Property Query Graphs para evaluar atributos de estructuras en grafos que son \"generados\" durante la construcción del árbol. Esta librería construye árboles de decisión clasificadores multi-relacionales a partir de subgrafos inmersos en una base de datos en grafo Neo4j."
   ]
  },
  {
   "cell_type": "markdown",
   "metadata": {},
   "source": [
    "Cargamos la librería y realizamos el mismo aprendizaje sobre \"genero\" que en capítulo."
   ]
  },
  {
   "cell_type": "code",
   "execution_count": 2,
   "metadata": {
    "collapsed": false,
    "scrolled": false
   },
   "outputs": [
    {
     "name": "stdout",
     "output_type": "stream",
     "text": [
      "[{'fixed': True, 'alpha': True, 'tetha': {}, 'label': 'a'}, {'fixed': False, 'alpha': True, 'tetha': {}, 'label': '1'}][{'inverse': False, 'alpha': True, 'tetha': u'-[:publish]->', 'gamma': ['a', '1'], 'fixed': False}][[1], [3], [4], [6], [8], [9], [11], [13]]\n",
      "\n",
      "     [{'fixed': True, 'alpha': True, 'tetha': {}, 'label': 'a'}, {'fixed': False, 'alpha': True, 'tetha': {}, 'label': '1'}, {'fixed': False, 'alpha': True, 'tetha': {}, 'label': '2'}][{'inverse': False, 'alpha': True, 'tetha': u'-[:publish]->', 'gamma': ['a', '1'], 'fixed': False}, {'inverse': True, 'alpha': True, 'tetha': u'-[:likes]->', 'gamma': ['2', '1'], 'fixed': False}][[1], [4], [6], [8], [11], [13]]\n",
      "\n",
      "          female[[4], [6], [11], [13]]\n",
      "\n",
      "          male[[1], [8]]\n",
      "\n",
      "     male[[3], [9]]\n",
      "\n",
      "\n"
     ]
    }
   ],
   "source": [
    "import sys\n",
    "import logging\n",
    "logging.basicConfig(level=logging.ERROR, format='%(asctime)s - %(levelname)s - %(message)s')\n",
    "from tabulate import tabulate\n",
    "from PropertyQueryGraph import *\n",
    "from QuerySystem import *\n",
    "from id3 import *\n",
    "from Refinement import *\n",
    "logging.warn(\"Verifying absent edge restrictions..\")\n",
    "modelo = id3(\"gender\",[\"a\",\"b\"])\n",
    "\n",
    "q = PropertyQueryGraph()\n",
    "q.addNode(\"a\",True,{},True)\n",
    "logging.debug(\"Creando nodo con query: \")\n",
    "#En Casa\n",
    "#arbol = modelo.execute(q , [[2],[4],[5],[7],[9],[10],[12],[14]])\n",
    "#En UCE\n",
    "arbol = modelo.execute(q , [[1],[3],[4],[6],[8],[9],[11],[13]])\n",
    "print arbol.str1()\n",
    "\n",
    "#,5,7,9,10,12,14]"
   ]
  },
  {
   "cell_type": "markdown",
   "metadata": {},
   "source": [
    "Realizamos un segundo experimento aprendizaje sobre la propiedad \"type\""
   ]
  },
  {
   "cell_type": "code",
   "execution_count": 4,
   "metadata": {
    "collapsed": false
   },
   "outputs": [
    {
     "name": "stderr",
     "output_type": "stream",
     "text": [
      "2016-12-08 15:41:27,227 - WARNING - Lista de generos para verificar stopcondition:[u'photo', u'photo', u'user', u'photo', u'user', u'user', u'user', u'user', u'user']\n",
      "2016-12-08 15:41:27,249 - WARNING - query_p (evaluando gain) [{'fixed': True, 'alpha': True, 'tetha': {}, 'label': 'a'}, {'fixed': False, 'alpha': True, 'tetha': {}, 'label': '1'}][{'inverse': False, 'alpha': True, 'tetha': u'-[:likes]->', 'gamma': ['a', '1'], 'fixed': False}]\n",
      "2016-12-08 15:41:27,250 - WARNING - Ejemplos a rama positiva (evaluando gain) [[6], [8], [9], [11], [13]]\n",
      "2016-12-08 15:41:27,263 - WARNING - query_n (evaluando gain) [{'fixed': True, 'alpha': True, 'tetha': {}, 'label': 'a'}, {'fixed': False, 'alpha': False, 'tetha': {}, 'label': '1'}][{'inverse': False, 'fixed': False, 'other_node': '1', 'alpha': False, 'tetha': u'-[:likes]->', 'gamma': ['a', '1']}]\n",
      "2016-12-08 15:41:27,263 - WARNING - Ejemplos a rama negativa (evaluando gain) [[2], [0], [5], [4]]\n",
      "2016-12-08 15:41:27,335 - WARNING - query: [{'fixed': True, 'alpha': True, 'tetha': {}, 'label': 'a'}, {'fixed': False, 'alpha': True, 'tetha': {}, 'label': '1'}][{'inverse': False, 'alpha': True, 'tetha': u'-[:likes]->', 'gamma': ['a', '1'], 'fixed': False}]\n",
      "2016-12-08 15:41:27,336 - WARNING - ganancia: 0.074179023676\n",
      "2016-12-08 15:41:27,350 - WARNING - query_p (evaluando gain) [{'fixed': True, 'alpha': True, 'tetha': {}, 'label': 'a'}, {'fixed': False, 'alpha': True, 'tetha': {}, 'label': '1'}][{'inverse': False, 'alpha': True, 'tetha': u'-[:publish]->', 'gamma': ['a', '1'], 'fixed': False}]\n",
      "2016-12-08 15:41:27,351 - WARNING - Ejemplos a rama positiva (evaluando gain) [[6], [8], [11], [13], [4]]\n",
      "2016-12-08 15:41:27,381 - WARNING - query_n (evaluando gain) [{'fixed': True, 'alpha': True, 'tetha': {}, 'label': 'a'}, {'fixed': False, 'alpha': False, 'tetha': {}, 'label': '1'}][{'inverse': False, 'fixed': False, 'other_node': '1', 'alpha': False, 'tetha': u'-[:publish]->', 'gamma': ['a', '1']}]\n",
      "2016-12-08 15:41:27,382 - WARNING - Ejemplos a rama negativa (evaluando gain) [[2], [0], [5], [9]]\n",
      "2016-12-08 15:41:27,384 - WARNING - query: [{'fixed': True, 'alpha': True, 'tetha': {}, 'label': 'a'}, {'fixed': False, 'alpha': True, 'tetha': {}, 'label': '1'}][{'inverse': False, 'alpha': True, 'tetha': u'-[:publish]->', 'gamma': ['a', '1'], 'fixed': False}]\n",
      "2016-12-08 15:41:27,385 - WARNING - ganancia: 0.074179023676\n",
      "2016-12-08 15:41:27,394 - WARNING - query_p (evaluando gain) [{'fixed': True, 'alpha': True, 'tetha': {}, 'label': 'a'}, {'fixed': False, 'alpha': True, 'tetha': {}, 'label': '1'}][{'inverse': False, 'alpha': True, 'tetha': u'-[:husband]->', 'gamma': ['a', '1'], 'fixed': False}]\n",
      "2016-12-08 15:41:27,395 - WARNING - Ejemplos a rama positiva (evaluando gain) [[8]]\n",
      "2016-12-08 15:41:27,403 - WARNING - query_n (evaluando gain) [{'fixed': True, 'alpha': True, 'tetha': {}, 'label': 'a'}, {'fixed': False, 'alpha': False, 'tetha': {}, 'label': '1'}][{'inverse': False, 'fixed': False, 'other_node': '1', 'alpha': False, 'tetha': u'-[:husband]->', 'gamma': ['a', '1']}]\n",
      "2016-12-08 15:41:27,403 - WARNING - Ejemplos a rama negativa (evaluando gain) [[2], [0], [5], [6], [9], [11], [13], [4]]\n",
      "2016-12-08 15:41:27,442 - WARNING - query: [{'fixed': True, 'alpha': True, 'tetha': {}, 'label': 'a'}, {'fixed': False, 'alpha': True, 'tetha': {}, 'label': '1'}][{'inverse': False, 'alpha': True, 'tetha': u'-[:husband]->', 'gamma': ['a', '1'], 'fixed': False}]\n",
      "2016-12-08 15:41:27,443 - WARNING - ganancia: -0.0250490698632\n",
      "2016-12-08 15:41:27,454 - WARNING - query_p (evaluando gain) [{'fixed': True, 'alpha': True, 'tetha': {}, 'label': 'a'}, {'fixed': False, 'alpha': True, 'tetha': {}, 'label': '1'}][{'inverse': False, 'alpha': True, 'tetha': u'-[:wife]->', 'gamma': ['a', '1'], 'fixed': False}]\n",
      "2016-12-08 15:41:27,455 - WARNING - Ejemplos a rama positiva (evaluando gain) [[13], [4]]\n",
      "2016-12-08 15:41:27,501 - WARNING - query_n (evaluando gain) [{'fixed': True, 'alpha': True, 'tetha': {}, 'label': 'a'}, {'fixed': False, 'alpha': False, 'tetha': {}, 'label': '1'}][{'inverse': False, 'fixed': False, 'other_node': '1', 'alpha': False, 'tetha': u'-[:wife]->', 'gamma': ['a', '1']}]\n",
      "2016-12-08 15:41:27,502 - WARNING - Ejemplos a rama negativa (evaluando gain) [[2], [0], [5], [6], [8], [9], [11]]\n",
      "2016-12-08 15:41:27,504 - WARNING - query: [{'fixed': True, 'alpha': True, 'tetha': {}, 'label': 'a'}, {'fixed': False, 'alpha': True, 'tetha': {}, 'label': '1'}][{'inverse': False, 'alpha': True, 'tetha': u'-[:wife]->', 'gamma': ['a', '1'], 'fixed': False}]\n",
      "2016-12-08 15:41:27,504 - WARNING - ganancia: -0.0463939364057\n",
      "2016-12-08 15:41:27,520 - WARNING - query_p (evaluando gain) [{'fixed': True, 'alpha': True, 'tetha': {}, 'label': 'a'}, {'fixed': False, 'alpha': True, 'tetha': {}, 'label': '1'}][{'inverse': True, 'alpha': True, 'tetha': u'-[:likes]->', 'gamma': ['1', 'a'], 'fixed': False}]\n",
      "2016-12-08 15:41:27,520 - WARNING - Ejemplos a rama positiva (evaluando gain) [[2]]\n",
      "2016-12-08 15:41:27,527 - WARNING - query_n (evaluando gain) [{'fixed': True, 'alpha': True, 'tetha': {}, 'label': 'a'}, {'fixed': False, 'alpha': False, 'tetha': {}, 'label': '1'}][{'inverse': True, 'fixed': False, 'other_node': '1', 'alpha': False, 'tetha': u'-[:likes]->', 'gamma': ['1', 'a']}]\n",
      "2016-12-08 15:41:27,528 - WARNING - Ejemplos a rama negativa (evaluando gain) [[0], [5], [6], [8], [9], [11], [13], [4]]\n",
      "2016-12-08 15:41:27,568 - WARNING - query: [{'fixed': True, 'alpha': True, 'tetha': {}, 'label': 'a'}, {'fixed': False, 'alpha': True, 'tetha': {}, 'label': '1'}][{'inverse': True, 'alpha': True, 'tetha': u'-[:likes]->', 'gamma': ['1', 'a'], 'fixed': False}]\n",
      "2016-12-08 15:41:27,569 - WARNING - ganancia: 0.074179023676\n",
      "2016-12-08 15:41:27,581 - WARNING - query_p (evaluando gain) [{'fixed': True, 'alpha': True, 'tetha': {}, 'label': 'a'}, {'fixed': False, 'alpha': True, 'tetha': {}, 'label': '1'}][{'inverse': True, 'alpha': True, 'tetha': u'-[:publish]->', 'gamma': ['1', 'a'], 'fixed': False}]\n",
      "2016-12-08 15:41:27,582 - WARNING - Ejemplos a rama positiva (evaluando gain) [[2], [0], [5]]\n",
      "2016-12-08 15:41:27,592 - WARNING - query_n (evaluando gain) [{'fixed': True, 'alpha': True, 'tetha': {}, 'label': 'a'}, {'fixed': False, 'alpha': False, 'tetha': {}, 'label': '1'}][{'inverse': True, 'fixed': False, 'other_node': '1', 'alpha': False, 'tetha': u'-[:publish]->', 'gamma': ['1', 'a']}]\n",
      "2016-12-08 15:41:27,593 - WARNING - Ejemplos a rama negativa (evaluando gain) [[6], [8], [9], [11], [13], [4]]\n",
      "2016-12-08 15:41:27,609 - WARNING - query: [{'fixed': True, 'alpha': True, 'tetha': {}, 'label': 'a'}, {'fixed': False, 'alpha': True, 'tetha': {}, 'label': '1'}][{'inverse': True, 'alpha': True, 'tetha': u'-[:publish]->', 'gamma': ['1', 'a'], 'fixed': False}]\n",
      "2016-12-08 15:41:27,609 - WARNING - ganancia: 0.636514168295\n",
      "2016-12-08 15:41:27,617 - WARNING - query_p (evaluando gain) [{'fixed': True, 'alpha': True, 'tetha': {}, 'label': 'a'}, {'fixed': False, 'alpha': True, 'tetha': {}, 'label': '1'}][{'inverse': True, 'alpha': True, 'tetha': u'-[:husband]->', 'gamma': ['1', 'a'], 'fixed': False}]\n",
      "2016-12-08 15:41:27,617 - WARNING - Ejemplos a rama positiva (evaluando gain) [[13], [4]]\n",
      "2016-12-08 15:41:27,626 - WARNING - query_n (evaluando gain) [{'fixed': True, 'alpha': True, 'tetha': {}, 'label': 'a'}, {'fixed': False, 'alpha': False, 'tetha': {}, 'label': '1'}][{'inverse': True, 'fixed': False, 'other_node': '1', 'alpha': False, 'tetha': u'-[:husband]->', 'gamma': ['1', 'a']}]\n",
      "2016-12-08 15:41:27,626 - WARNING - Ejemplos a rama negativa (evaluando gain) [[2], [0], [5], [6], [8], [9], [11]]\n",
      "2016-12-08 15:41:27,628 - WARNING - query: [{'fixed': True, 'alpha': True, 'tetha': {}, 'label': 'a'}, {'fixed': False, 'alpha': True, 'tetha': {}, 'label': '1'}][{'inverse': True, 'alpha': True, 'tetha': u'-[:husband]->', 'gamma': ['1', 'a'], 'fixed': False}]\n",
      "2016-12-08 15:41:27,629 - WARNING - ganancia: -0.0463939364057\n",
      "2016-12-08 15:41:27,638 - WARNING - query_p (evaluando gain) [{'fixed': True, 'alpha': True, 'tetha': {}, 'label': 'a'}, {'fixed': False, 'alpha': True, 'tetha': {}, 'label': '1'}][{'inverse': True, 'alpha': True, 'tetha': u'-[:wife]->', 'gamma': ['1', 'a'], 'fixed': False}]\n",
      "2016-12-08 15:41:27,638 - WARNING - Ejemplos a rama positiva (evaluando gain) [[8]]\n",
      "2016-12-08 15:41:27,646 - WARNING - query_n (evaluando gain) [{'fixed': True, 'alpha': True, 'tetha': {}, 'label': 'a'}, {'fixed': False, 'alpha': False, 'tetha': {}, 'label': '1'}][{'inverse': True, 'fixed': False, 'other_node': '1', 'alpha': False, 'tetha': u'-[:wife]->', 'gamma': ['1', 'a']}]\n",
      "2016-12-08 15:41:27,647 - WARNING - Ejemplos a rama negativa (evaluando gain) [[2], [0], [5], [6], [9], [11], [13], [4]]\n",
      "2016-12-08 15:41:27,649 - WARNING - query: [{'fixed': True, 'alpha': True, 'tetha': {}, 'label': 'a'}, {'fixed': False, 'alpha': True, 'tetha': {}, 'label': '1'}][{'inverse': True, 'alpha': True, 'tetha': u'-[:wife]->', 'gamma': ['1', 'a'], 'fixed': False}]\n",
      "2016-12-08 15:41:27,650 - WARNING - ganancia: -0.0250490698632\n",
      "2016-12-08 15:41:27,665 - WARNING - Lista de generos para verificar stopcondition:[u'photo', u'photo', u'photo']\n",
      "2016-12-08 15:41:27,667 - WARNING - Lista de generos para verificar stopcondition:[u'user', u'user', u'user', u'user', u'user', u'user']\n"
     ]
    },
    {
     "name": "stdout",
     "output_type": "stream",
     "text": [
      "[{'fixed': True, 'alpha': True, 'tetha': {}, 'label': 'a'}, {'fixed': False, 'alpha': True, 'tetha': {}, 'label': '1'}][{'inverse': True, 'alpha': True, 'tetha': u'-[:publish]->', 'gamma': ['1', 'a'], 'fixed': False}][[2], [0], [5], [6], [8], [9], [11], [13], [4]]\n",
      "\n",
      "     photo[[2], [0], [5]]\n",
      "\n",
      "     user[[6], [8], [9], [11], [13], [4]]\n",
      "\n",
      "\n"
     ]
    }
   ],
   "source": [
    "modelo = id3(\"type\",[\"a\",\"b\"])\n",
    "\n",
    "q = PropertyQueryGraph()\n",
    "q.addNode(\"a\",True,{},True)\n",
    "logging.debug(\"Creando nodo con query: \")\n",
    "#En Casa\n",
    "#arbol = modelo.execute(q , [[2],[4],[5],[7],[9],[10],[12],[14]])\n",
    "#En UCE\n",
    "arbol = modelo.execute(q , [[2],[0],[5],[6],[8],[9],[11],[13],[4]])\n",
    "print arbol.str1()"
   ]
  }
 ],
 "metadata": {
  "kernelspec": {
   "display_name": "Python 2",
   "language": "python",
   "name": "python2"
  },
  "language_info": {
   "codemirror_mode": {
    "name": "ipython",
    "version": 2
   },
   "file_extension": ".py",
   "mimetype": "text/x-python",
   "name": "python",
   "nbconvert_exporter": "python",
   "pygments_lexer": "ipython2",
   "version": "2.7.6"
  }
 },
 "nbformat": 4,
 "nbformat_minor": 1
}
