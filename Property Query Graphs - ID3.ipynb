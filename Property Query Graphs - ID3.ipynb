{
 "cells": [
  {
   "cell_type": "markdown",
   "metadata": {},
   "source": [
    "## Property Query Graphs - ID3"
   ]
  },
  {
   "cell_type": "markdown",
   "metadata": {},
   "source": [
    "AHORA MISMO ESTAMOS TENIENDO PROBLEMA CON LOS QUERY NEGATIVOS, SE PONEN LAS ARISTAS COMO INVERSAS CUANDO NO LO SON! REPASAR ESO! A continuación presentamos el algoritmo de aprendizaje de árboles de decisión multi-relacionales sobre grafos con propiedades \"Property Query Graphs - ID3\", el cual utiliza Property Query Graphs para evaluar atributos de estructuras en grafos que son \"generados\" durante la construcción del árbol. Esta librería construye árboles de decisión clasificadores multi-relacionales a partir de subgrafos inmersos en una base de datos en grafo Neo4j."
   ]
  },
  {
   "cell_type": "markdown",
   "metadata": {},
   "source": [
    "Cargamos la librería y definimos los PQGs así como los subgrafos presentados en el capitulo"
   ]
  },
  {
   "cell_type": "code",
   "execution_count": 1,
   "metadata": {
    "collapsed": false
   },
   "outputs": [],
   "source": [
    "%load_ext autoreload\n",
    "%autoreload 2\n",
    "import sys\n",
    "sys.setrecursionlimit(200)\n",
    "from tabulate import tabulate\n",
    "from PropertyQueryGraph import *\n",
    "from QuerySystem import *\n",
    "from id3 import *\n",
    "from Refinement import *"
   ]
  },
  {
   "cell_type": "code",
   "execution_count": 2,
   "metadata": {
    "collapsed": false,
    "scrolled": false
   },
   "outputs": [
    {
     "name": "stderr",
     "output_type": "stream",
     "text": [
      "2016-12-08 13:38:04,625 - WARNING - Verifying absent edge restrictions..\n",
      "2016-12-08 13:38:04,640 - WARNING - Lista de generos para verificar stopcondition:[u'male', u'male', u'female', u'female', u'male', u'male', u'female', u'female']\n",
      "2016-12-08 13:38:04,671 - WARNING - query_p (evaluando gain) [{'fixed': True, 'alpha': True, 'tetha': {}, 'label': 'a'}, {'fixed': False, 'alpha': True, 'tetha': {}, 'label': '1'}][{'inverse': False, 'alpha': True, 'tetha': u'-[:likes]->', 'gamma': ['a', '1'], 'fixed': False}]\n",
      "2016-12-08 13:38:04,672 - WARNING - Ejemplos a rama positiva (evaluando gain) [[1], [3], [6], [8], [9], [11], [13]]\n",
      "2016-12-08 13:38:04,690 - WARNING - query_n (evaluando gain) [{'fixed': True, 'alpha': True, 'tetha': {}, 'label': 'a'}, {'fixed': False, 'alpha': False, 'tetha': {}, 'label': '1'}][{'inverse': False, 'fixed': False, 'other_node': '1', 'alpha': False, 'tetha': u'-[:likes]->', 'gamma': ['a', '1']}]\n",
      "2016-12-08 13:38:04,692 - WARNING - Ejemplos a rama negativa (evaluando gain) [[4]]\n",
      "2016-12-08 13:38:04,695 - WARNING - query: [{'fixed': True, 'alpha': True, 'tetha': {}, 'label': 'a'}, {'fixed': False, 'alpha': True, 'tetha': {}, 'label': '1'}][{'inverse': False, 'alpha': True, 'tetha': u'-[:likes]->', 'gamma': ['a', '1'], 'fixed': False}]\n",
      "2016-12-08 13:38:04,698 - WARNING - ganancia: 0.0102390758595\n",
      "2016-12-08 13:38:04,712 - WARNING - query_p (evaluando gain) [{'fixed': True, 'alpha': True, 'tetha': {}, 'label': 'a'}, {'fixed': False, 'alpha': True, 'tetha': {}, 'label': '1'}][{'inverse': False, 'alpha': True, 'tetha': u'-[:publish]->', 'gamma': ['a', '1'], 'fixed': False}]\n",
      "2016-12-08 13:38:04,713 - WARNING - Ejemplos a rama positiva (evaluando gain) [[1], [4], [6], [8], [11], [13]]\n",
      "2016-12-08 13:38:04,746 - WARNING - query_n (evaluando gain) [{'fixed': True, 'alpha': True, 'tetha': {}, 'label': 'a'}, {'fixed': False, 'alpha': False, 'tetha': {}, 'label': '1'}][{'inverse': False, 'fixed': False, 'other_node': '1', 'alpha': False, 'tetha': u'-[:publish]->', 'gamma': ['a', '1']}]\n",
      "2016-12-08 13:38:04,747 - WARNING - Ejemplos a rama negativa (evaluando gain) [[3], [9]]\n",
      "2016-12-08 13:38:04,751 - WARNING - query: [{'fixed': True, 'alpha': True, 'tetha': {}, 'label': 'a'}, {'fixed': False, 'alpha': True, 'tetha': {}, 'label': '1'}][{'inverse': False, 'alpha': True, 'tetha': u'-[:publish]->', 'gamma': ['a', '1'], 'fixed': False}]\n",
      "2016-12-08 13:38:04,753 - WARNING - ganancia: 0.0566330122651\n",
      "2016-12-08 13:38:04,769 - WARNING - query_p (evaluando gain) [{'fixed': True, 'alpha': True, 'tetha': {}, 'label': 'a'}, {'fixed': False, 'alpha': True, 'tetha': {}, 'label': '1'}][{'inverse': False, 'alpha': True, 'tetha': u'-[:husband]->', 'gamma': ['a', '1'], 'fixed': False}]\n",
      "2016-12-08 13:38:04,770 - WARNING - Ejemplos a rama positiva (evaluando gain) [[3], [8]]\n",
      "2016-12-08 13:38:04,780 - WARNING - query_n (evaluando gain) [{'fixed': True, 'alpha': True, 'tetha': {}, 'label': 'a'}, {'fixed': False, 'alpha': False, 'tetha': {}, 'label': '1'}][{'inverse': False, 'fixed': False, 'other_node': '1', 'alpha': False, 'tetha': u'-[:husband]->', 'gamma': ['a', '1']}]\n",
      "2016-12-08 13:38:04,781 - WARNING - Ejemplos a rama negativa (evaluando gain) [[1], [4], [6], [9], [11], [13]]\n",
      "2016-12-08 13:38:04,798 - WARNING - query: [{'fixed': True, 'alpha': True, 'tetha': {}, 'label': 'a'}, {'fixed': False, 'alpha': True, 'tetha': {}, 'label': '1'}][{'inverse': False, 'alpha': True, 'tetha': u'-[:husband]->', 'gamma': ['a', '1'], 'fixed': False}]\n",
      "2016-12-08 13:38:04,802 - WARNING - ganancia: 0.0566330122651\n",
      "2016-12-08 13:38:04,821 - WARNING - query_p (evaluando gain) [{'fixed': True, 'alpha': True, 'tetha': {}, 'label': 'a'}, {'fixed': False, 'alpha': True, 'tetha': {}, 'label': '1'}][{'inverse': False, 'alpha': True, 'tetha': u'-[:wife]->', 'gamma': ['a', '1'], 'fixed': False}]\n",
      "2016-12-08 13:38:04,822 - WARNING - Ejemplos a rama positiva (evaluando gain) [[4], [13]]\n",
      "2016-12-08 13:38:04,852 - WARNING - query_n (evaluando gain) [{'fixed': True, 'alpha': True, 'tetha': {}, 'label': 'a'}, {'fixed': False, 'alpha': False, 'tetha': {}, 'label': '1'}][{'inverse': False, 'fixed': False, 'other_node': '1', 'alpha': False, 'tetha': u'-[:wife]->', 'gamma': ['a', '1']}]\n",
      "2016-12-08 13:38:04,853 - WARNING - Ejemplos a rama negativa (evaluando gain) [[1], [3], [6], [8], [9], [11]]\n",
      "2016-12-08 13:38:04,856 - WARNING - query: [{'fixed': True, 'alpha': True, 'tetha': {}, 'label': 'a'}, {'fixed': False, 'alpha': True, 'tetha': {}, 'label': '1'}][{'inverse': False, 'alpha': True, 'tetha': u'-[:wife]->', 'gamma': ['a', '1'], 'fixed': False}]\n",
      "2016-12-08 13:38:04,856 - WARNING - ganancia: 0.0566330122651\n",
      "2016-12-08 13:38:04,876 - WARNING - query_p (evaluando gain) [{'fixed': True, 'alpha': True, 'tetha': {}, 'label': 'a'}, {'fixed': False, 'alpha': True, 'tetha': {}, 'label': '1'}][{'inverse': True, 'alpha': True, 'tetha': u'-[:likes]->', 'gamma': ['1', 'a'], 'fixed': False}]\n",
      "2016-12-08 13:38:04,877 - WARNING - Ejemplos a rama positiva (evaluando gain) []\n",
      "2016-12-08 13:38:04,890 - WARNING - query_n (evaluando gain) [{'fixed': True, 'alpha': True, 'tetha': {}, 'label': 'a'}, {'fixed': False, 'alpha': False, 'tetha': {}, 'label': '1'}][{'inverse': True, 'fixed': False, 'other_node': '1', 'alpha': False, 'tetha': u'-[:likes]->', 'gamma': ['1', 'a']}]\n",
      "2016-12-08 13:38:04,892 - WARNING - Ejemplos a rama negativa (evaluando gain) [[1], [3], [4], [6], [8], [9], [11], [13]]\n",
      "2016-12-08 13:38:04,896 - WARNING - query: [{'fixed': True, 'alpha': True, 'tetha': {}, 'label': 'a'}, {'fixed': False, 'alpha': True, 'tetha': {}, 'label': '1'}][{'inverse': True, 'alpha': True, 'tetha': u'-[:likes]->', 'gamma': ['1', 'a'], 'fixed': False}]\n",
      "2016-12-08 13:38:04,900 - WARNING - ganancia: 0.0\n",
      "2016-12-08 13:38:04,925 - WARNING - query_p (evaluando gain) [{'fixed': True, 'alpha': True, 'tetha': {}, 'label': 'a'}, {'fixed': False, 'alpha': True, 'tetha': {}, 'label': '1'}][{'inverse': True, 'alpha': True, 'tetha': u'-[:publish]->', 'gamma': ['1', 'a'], 'fixed': False}]\n",
      "2016-12-08 13:38:04,926 - WARNING - Ejemplos a rama positiva (evaluando gain) []\n",
      "2016-12-08 13:38:04,933 - WARNING - query_n (evaluando gain) [{'fixed': True, 'alpha': True, 'tetha': {}, 'label': 'a'}, {'fixed': False, 'alpha': False, 'tetha': {}, 'label': '1'}][{'inverse': True, 'fixed': False, 'other_node': '1', 'alpha': False, 'tetha': u'-[:publish]->', 'gamma': ['1', 'a']}]\n",
      "2016-12-08 13:38:04,934 - WARNING - Ejemplos a rama negativa (evaluando gain) [[1], [3], [4], [6], [8], [9], [11], [13]]\n",
      "2016-12-08 13:38:04,937 - WARNING - query: [{'fixed': True, 'alpha': True, 'tetha': {}, 'label': 'a'}, {'fixed': False, 'alpha': True, 'tetha': {}, 'label': '1'}][{'inverse': True, 'alpha': True, 'tetha': u'-[:publish]->', 'gamma': ['1', 'a'], 'fixed': False}]\n",
      "2016-12-08 13:38:04,938 - WARNING - ganancia: 0.0\n",
      "2016-12-08 13:38:04,946 - WARNING - query_p (evaluando gain) [{'fixed': True, 'alpha': True, 'tetha': {}, 'label': 'a'}, {'fixed': False, 'alpha': True, 'tetha': {}, 'label': '1'}][{'inverse': True, 'alpha': True, 'tetha': u'-[:husband]->', 'gamma': ['1', 'a'], 'fixed': False}]\n",
      "2016-12-08 13:38:04,948 - WARNING - Ejemplos a rama positiva (evaluando gain) [[4], [13]]\n",
      "2016-12-08 13:38:04,993 - WARNING - query_n (evaluando gain) [{'fixed': True, 'alpha': True, 'tetha': {}, 'label': 'a'}, {'fixed': False, 'alpha': False, 'tetha': {}, 'label': '1'}][{'inverse': True, 'fixed': False, 'other_node': '1', 'alpha': False, 'tetha': u'-[:husband]->', 'gamma': ['1', 'a']}]\n",
      "2016-12-08 13:38:04,993 - WARNING - Ejemplos a rama negativa (evaluando gain) [[1], [3], [6], [8], [9], [11]]\n",
      "2016-12-08 13:38:04,996 - WARNING - query: [{'fixed': True, 'alpha': True, 'tetha': {}, 'label': 'a'}, {'fixed': False, 'alpha': True, 'tetha': {}, 'label': '1'}][{'inverse': True, 'alpha': True, 'tetha': u'-[:husband]->', 'gamma': ['1', 'a'], 'fixed': False}]\n",
      "2016-12-08 13:38:04,996 - WARNING - ganancia: 0.0566330122651\n",
      "2016-12-08 13:38:05,003 - WARNING - query_p (evaluando gain) [{'fixed': True, 'alpha': True, 'tetha': {}, 'label': 'a'}, {'fixed': False, 'alpha': True, 'tetha': {}, 'label': '1'}][{'inverse': True, 'alpha': True, 'tetha': u'-[:wife]->', 'gamma': ['1', 'a'], 'fixed': False}]\n",
      "2016-12-08 13:38:05,004 - WARNING - Ejemplos a rama positiva (evaluando gain) [[3], [8]]\n",
      "2016-12-08 13:38:05,010 - WARNING - query_n (evaluando gain) [{'fixed': True, 'alpha': True, 'tetha': {}, 'label': 'a'}, {'fixed': False, 'alpha': False, 'tetha': {}, 'label': '1'}][{'inverse': True, 'fixed': False, 'other_node': '1', 'alpha': False, 'tetha': u'-[:wife]->', 'gamma': ['1', 'a']}]\n",
      "2016-12-08 13:38:05,011 - WARNING - Ejemplos a rama negativa (evaluando gain) [[1], [4], [6], [9], [11], [13]]\n",
      "2016-12-08 13:38:05,014 - WARNING - query: [{'fixed': True, 'alpha': True, 'tetha': {}, 'label': 'a'}, {'fixed': False, 'alpha': True, 'tetha': {}, 'label': '1'}][{'inverse': True, 'alpha': True, 'tetha': u'-[:wife]->', 'gamma': ['1', 'a'], 'fixed': False}]\n",
      "2016-12-08 13:38:05,014 - WARNING - ganancia: 0.0566330122651\n",
      "2016-12-08 13:38:05,037 - WARNING - Lista de generos para verificar stopcondition:[u'male', u'female', u'female', u'male', u'female', u'female']\n",
      "2016-12-08 13:38:05,066 - WARNING - query_p (evaluando gain) [{'fixed': True, 'alpha': True, 'tetha': {}, 'label': 'a'}, {'fixed': False, 'alpha': True, 'tetha': {}, 'label': '1'}, {'fixed': False, 'alpha': True, 'tetha': {}, 'label': '2'}][{'inverse': False, 'alpha': True, 'tetha': u'-[:publish]->', 'gamma': ['a', '1'], 'fixed': False}, {'inverse': False, 'alpha': True, 'tetha': u'-[:likes]->', 'gamma': ['a', '2'], 'fixed': False}]\n",
      "2016-12-08 13:38:05,067 - WARNING - Ejemplos a rama positiva (evaluando gain) [[1], [6], [8], [11], [13]]\n",
      "2016-12-08 13:38:05,081 - WARNING - query_n (evaluando gain) [{'fixed': True, 'alpha': True, 'tetha': {}, 'label': 'a'}, {'fixed': False, 'alpha': True, 'tetha': {}, 'label': '1'}, {'fixed': False, 'alpha': False, 'tetha': {}, 'label': '2'}][{'inverse': False, 'alpha': True, 'tetha': u'-[:publish]->', 'gamma': ['a', '1'], 'fixed': False}, {'inverse': False, 'fixed': False, 'other_node': '2', 'alpha': False, 'tetha': u'-[:likes]->', 'gamma': ['a', '2']}]\n",
      "2016-12-08 13:38:05,086 - WARNING - Ejemplos a rama negativa (evaluando gain) [[4]]\n",
      "2016-12-08 13:38:05,091 - WARNING - query: [{'fixed': True, 'alpha': True, 'tetha': {}, 'label': 'a'}, {'fixed': False, 'alpha': True, 'tetha': {}, 'label': '1'}, {'fixed': False, 'alpha': True, 'tetha': {}, 'label': '2'}][{'inverse': False, 'alpha': True, 'tetha': u'-[:publish]->', 'gamma': ['a', '1'], 'fixed': False}, {'inverse': False, 'alpha': True, 'tetha': u'-[:likes]->', 'gamma': ['a', '2'], 'fixed': False}]\n",
      "2016-12-08 13:38:05,092 - WARNING - ganancia: -0.0364974987144\n",
      "2016-12-08 13:38:05,125 - WARNING - query_p (evaluando gain) [{'fixed': True, 'alpha': True, 'tetha': {}, 'label': 'a'}, {'fixed': False, 'alpha': True, 'tetha': {}, 'label': '1'}, {'fixed': False, 'alpha': True, 'tetha': {}, 'label': '2'}][{'inverse': True, 'alpha': True, 'tetha': u'-[:publish]->', 'gamma': ['a', '1'], 'fixed': False}, {'inverse': False, 'alpha': True, 'tetha': u'-[:likes]->', 'gamma': ['1', '2'], 'fixed': False}]\n",
      "2016-12-08 13:38:05,126 - WARNING - Ejemplos a rama positiva (evaluando gain) []\n",
      "2016-12-08 13:38:05,149 - WARNING - query_n (evaluando gain) [{'fixed': True, 'alpha': True, 'tetha': {}, 'label': 'a'}, {'fixed': False, 'alpha': True, 'tetha': {}, 'label': '1'}, {'fixed': False, 'alpha': False, 'tetha': {}, 'label': '2'}][{'inverse': False, 'alpha': True, 'tetha': u'-[:publish]->', 'gamma': ['a', '1'], 'fixed': False}, {'inverse': False, 'fixed': False, 'other_node': '2', 'alpha': False, 'tetha': u'-[:likes]->', 'gamma': ['1', '2']}]\n",
      "2016-12-08 13:38:05,151 - WARNING - Ejemplos a rama negativa (evaluando gain) [[1], [4], [6], [8], [11], [13]]\n",
      "2016-12-08 13:38:05,155 - WARNING - query: [{'fixed': True, 'alpha': True, 'tetha': {}, 'label': 'a'}, {'fixed': False, 'alpha': True, 'tetha': {}, 'label': '1'}, {'fixed': False, 'alpha': True, 'tetha': {}, 'label': '2'}][{'inverse': False, 'alpha': True, 'tetha': u'-[:publish]->', 'gamma': ['a', '1'], 'fixed': False}, {'inverse': False, 'alpha': True, 'tetha': u'-[:likes]->', 'gamma': ['1', '2'], 'fixed': False}]\n",
      "2016-12-08 13:38:05,155 - WARNING - ganancia: 0.0\n",
      "2016-12-08 13:38:05,193 - WARNING - query_p (evaluando gain) [{'fixed': True, 'alpha': True, 'tetha': {}, 'label': 'a'}, {'fixed': False, 'alpha': True, 'tetha': {}, 'label': '1'}, {'fixed': False, 'alpha': True, 'tetha': {}, 'label': '2'}][{'inverse': False, 'alpha': True, 'tetha': u'-[:publish]->', 'gamma': ['a', '1'], 'fixed': False}, {'inverse': False, 'alpha': True, 'tetha': u'-[:publish]->', 'gamma': ['a', '2'], 'fixed': False}]\n",
      "2016-12-08 13:38:05,195 - WARNING - Ejemplos a rama positiva (evaluando gain) [[1], [4], [6], [8], [11], [13]]\n",
      "2016-12-08 13:38:05,205 - WARNING - query_n (evaluando gain) [{'fixed': True, 'alpha': True, 'tetha': {}, 'label': 'a'}, {'fixed': False, 'alpha': True, 'tetha': {}, 'label': '1'}, {'fixed': False, 'alpha': False, 'tetha': {}, 'label': '2'}][{'inverse': False, 'alpha': True, 'tetha': u'-[:publish]->', 'gamma': ['a', '1'], 'fixed': False}, {'inverse': False, 'fixed': False, 'other_node': '2', 'alpha': False, 'tetha': u'-[:publish]->', 'gamma': ['a', '2']}]\n",
      "2016-12-08 13:38:05,206 - WARNING - Ejemplos a rama negativa (evaluando gain) []\n",
      "2016-12-08 13:38:05,207 - WARNING - query: [{'fixed': True, 'alpha': True, 'tetha': {}, 'label': 'a'}, {'fixed': False, 'alpha': True, 'tetha': {}, 'label': '1'}, {'fixed': False, 'alpha': True, 'tetha': {}, 'label': '2'}][{'inverse': False, 'alpha': True, 'tetha': u'-[:publish]->', 'gamma': ['a', '1'], 'fixed': False}, {'inverse': False, 'alpha': True, 'tetha': u'-[:publish]->', 'gamma': ['a', '2'], 'fixed': False}]\n",
      "2016-12-08 13:38:05,207 - WARNING - ganancia: 0.0\n",
      "2016-12-08 13:38:05,224 - WARNING - query_p (evaluando gain) [{'fixed': True, 'alpha': True, 'tetha': {}, 'label': 'a'}, {'fixed': False, 'alpha': True, 'tetha': {}, 'label': '1'}, {'fixed': False, 'alpha': True, 'tetha': {}, 'label': '2'}][{'inverse': True, 'alpha': True, 'tetha': u'-[:publish]->', 'gamma': ['a', '1'], 'fixed': False}, {'inverse': False, 'alpha': True, 'tetha': u'-[:publish]->', 'gamma': ['1', '2'], 'fixed': False}]\n",
      "2016-12-08 13:38:05,225 - WARNING - Ejemplos a rama positiva (evaluando gain) []\n",
      "2016-12-08 13:38:05,234 - WARNING - query_n (evaluando gain) [{'fixed': True, 'alpha': True, 'tetha': {}, 'label': 'a'}, {'fixed': False, 'alpha': True, 'tetha': {}, 'label': '1'}, {'fixed': False, 'alpha': False, 'tetha': {}, 'label': '2'}][{'inverse': False, 'alpha': True, 'tetha': u'-[:publish]->', 'gamma': ['a', '1'], 'fixed': False}, {'inverse': False, 'fixed': False, 'other_node': '2', 'alpha': False, 'tetha': u'-[:publish]->', 'gamma': ['1', '2']}]\n",
      "2016-12-08 13:38:05,235 - WARNING - Ejemplos a rama negativa (evaluando gain) [[1], [4], [6], [8], [11], [13]]\n",
      "2016-12-08 13:38:05,237 - WARNING - query: [{'fixed': True, 'alpha': True, 'tetha': {}, 'label': 'a'}, {'fixed': False, 'alpha': True, 'tetha': {}, 'label': '1'}, {'fixed': False, 'alpha': True, 'tetha': {}, 'label': '2'}][{'inverse': False, 'alpha': True, 'tetha': u'-[:publish]->', 'gamma': ['a', '1'], 'fixed': False}, {'inverse': False, 'alpha': True, 'tetha': u'-[:publish]->', 'gamma': ['1', '2'], 'fixed': False}]\n",
      "2016-12-08 13:38:05,237 - WARNING - ganancia: 0.0\n",
      "2016-12-08 13:38:05,247 - WARNING - query_p (evaluando gain) [{'fixed': True, 'alpha': True, 'tetha': {}, 'label': 'a'}, {'fixed': False, 'alpha': True, 'tetha': {}, 'label': '1'}, {'fixed': False, 'alpha': True, 'tetha': {}, 'label': '2'}][{'inverse': False, 'alpha': True, 'tetha': u'-[:publish]->', 'gamma': ['a', '1'], 'fixed': False}, {'inverse': False, 'alpha': True, 'tetha': u'-[:husband]->', 'gamma': ['a', '2'], 'fixed': False}]\n",
      "2016-12-08 13:38:05,247 - WARNING - Ejemplos a rama positiva (evaluando gain) [[8]]\n",
      "2016-12-08 13:38:05,256 - WARNING - query_n (evaluando gain) [{'fixed': True, 'alpha': True, 'tetha': {}, 'label': 'a'}, {'fixed': False, 'alpha': True, 'tetha': {}, 'label': '1'}, {'fixed': False, 'alpha': False, 'tetha': {}, 'label': '2'}][{'inverse': False, 'alpha': True, 'tetha': u'-[:publish]->', 'gamma': ['a', '1'], 'fixed': False}, {'inverse': False, 'fixed': False, 'other_node': '2', 'alpha': False, 'tetha': u'-[:husband]->', 'gamma': ['a', '2']}]\n",
      "2016-12-08 13:38:05,257 - WARNING - Ejemplos a rama negativa (evaluando gain) [[1], [4], [6], [11], [13]]\n",
      "2016-12-08 13:38:05,259 - WARNING - query: [{'fixed': True, 'alpha': True, 'tetha': {}, 'label': 'a'}, {'fixed': False, 'alpha': True, 'tetha': {}, 'label': '1'}, {'fixed': False, 'alpha': True, 'tetha': {}, 'label': '2'}][{'inverse': False, 'alpha': True, 'tetha': u'-[:publish]->', 'gamma': ['a', '1'], 'fixed': False}, {'inverse': False, 'alpha': True, 'tetha': u'-[:husband]->', 'gamma': ['a', '2'], 'fixed': False}]\n",
      "2016-12-08 13:38:05,260 - WARNING - ganancia: 0.136111744757\n",
      "2016-12-08 13:38:05,278 - WARNING - query_p (evaluando gain) [{'fixed': True, 'alpha': True, 'tetha': {}, 'label': 'a'}, {'fixed': False, 'alpha': True, 'tetha': {}, 'label': '1'}, {'fixed': False, 'alpha': True, 'tetha': {}, 'label': '2'}][{'inverse': True, 'alpha': True, 'tetha': u'-[:publish]->', 'gamma': ['a', '1'], 'fixed': False}, {'inverse': False, 'alpha': True, 'tetha': u'-[:husband]->', 'gamma': ['1', '2'], 'fixed': False}]\n",
      "2016-12-08 13:38:05,279 - WARNING - Ejemplos a rama positiva (evaluando gain) []\n",
      "2016-12-08 13:38:05,289 - WARNING - query_n (evaluando gain) [{'fixed': True, 'alpha': True, 'tetha': {}, 'label': 'a'}, {'fixed': False, 'alpha': True, 'tetha': {}, 'label': '1'}, {'fixed': False, 'alpha': False, 'tetha': {}, 'label': '2'}][{'inverse': False, 'alpha': True, 'tetha': u'-[:publish]->', 'gamma': ['a', '1'], 'fixed': False}, {'inverse': False, 'fixed': False, 'other_node': '2', 'alpha': False, 'tetha': u'-[:husband]->', 'gamma': ['1', '2']}]\n",
      "2016-12-08 13:38:05,290 - WARNING - Ejemplos a rama negativa (evaluando gain) [[1], [4], [6], [8], [11], [13]]\n",
      "2016-12-08 13:38:05,292 - WARNING - query: [{'fixed': True, 'alpha': True, 'tetha': {}, 'label': 'a'}, {'fixed': False, 'alpha': True, 'tetha': {}, 'label': '1'}, {'fixed': False, 'alpha': True, 'tetha': {}, 'label': '2'}][{'inverse': False, 'alpha': True, 'tetha': u'-[:publish]->', 'gamma': ['a', '1'], 'fixed': False}, {'inverse': False, 'alpha': True, 'tetha': u'-[:husband]->', 'gamma': ['1', '2'], 'fixed': False}]\n",
      "2016-12-08 13:38:05,293 - WARNING - ganancia: 0.0\n",
      "2016-12-08 13:38:05,310 - WARNING - query_p (evaluando gain) [{'fixed': True, 'alpha': True, 'tetha': {}, 'label': 'a'}, {'fixed': False, 'alpha': True, 'tetha': {}, 'label': '1'}, {'fixed': False, 'alpha': True, 'tetha': {}, 'label': '2'}][{'inverse': False, 'alpha': True, 'tetha': u'-[:publish]->', 'gamma': ['a', '1'], 'fixed': False}, {'inverse': False, 'alpha': True, 'tetha': u'-[:wife]->', 'gamma': ['a', '2'], 'fixed': False}]\n",
      "2016-12-08 13:38:05,311 - WARNING - Ejemplos a rama positiva (evaluando gain) [[4], [13]]\n",
      "2016-12-08 13:38:05,321 - WARNING - query_n (evaluando gain) [{'fixed': True, 'alpha': True, 'tetha': {}, 'label': 'a'}, {'fixed': False, 'alpha': True, 'tetha': {}, 'label': '1'}, {'fixed': False, 'alpha': False, 'tetha': {}, 'label': '2'}][{'inverse': False, 'alpha': True, 'tetha': u'-[:publish]->', 'gamma': ['a', '1'], 'fixed': False}, {'inverse': False, 'fixed': False, 'other_node': '2', 'alpha': False, 'tetha': u'-[:wife]->', 'gamma': ['a', '2']}]\n",
      "2016-12-08 13:38:05,321 - WARNING - Ejemplos a rama negativa (evaluando gain) [[1], [6], [8], [11]]\n",
      "2016-12-08 13:38:05,323 - WARNING - query: [{'fixed': True, 'alpha': True, 'tetha': {}, 'label': 'a'}, {'fixed': False, 'alpha': True, 'tetha': {}, 'label': '1'}, {'fixed': False, 'alpha': True, 'tetha': {}, 'label': '2'}][{'inverse': False, 'alpha': True, 'tetha': u'-[:publish]->', 'gamma': ['a', '1'], 'fixed': False}, {'inverse': False, 'alpha': True, 'tetha': u'-[:wife]->', 'gamma': ['a', '2'], 'fixed': False}]\n",
      "2016-12-08 13:38:05,324 - WARNING - ganancia: -0.0566330122651\n",
      "2016-12-08 13:38:05,350 - WARNING - query_p (evaluando gain) [{'fixed': True, 'alpha': True, 'tetha': {}, 'label': 'a'}, {'fixed': False, 'alpha': True, 'tetha': {}, 'label': '1'}, {'fixed': False, 'alpha': True, 'tetha': {}, 'label': '2'}][{'inverse': True, 'alpha': True, 'tetha': u'-[:publish]->', 'gamma': ['a', '1'], 'fixed': False}, {'inverse': False, 'alpha': True, 'tetha': u'-[:wife]->', 'gamma': ['1', '2'], 'fixed': False}]\n",
      "2016-12-08 13:38:05,351 - WARNING - Ejemplos a rama positiva (evaluando gain) []\n",
      "2016-12-08 13:38:05,361 - WARNING - query_n (evaluando gain) [{'fixed': True, 'alpha': True, 'tetha': {}, 'label': 'a'}, {'fixed': False, 'alpha': True, 'tetha': {}, 'label': '1'}, {'fixed': False, 'alpha': False, 'tetha': {}, 'label': '2'}][{'inverse': False, 'alpha': True, 'tetha': u'-[:publish]->', 'gamma': ['a', '1'], 'fixed': False}, {'inverse': False, 'fixed': False, 'other_node': '2', 'alpha': False, 'tetha': u'-[:wife]->', 'gamma': ['1', '2']}]\n",
      "2016-12-08 13:38:05,361 - WARNING - Ejemplos a rama negativa (evaluando gain) [[1], [4], [6], [8], [11], [13]]\n",
      "2016-12-08 13:38:05,364 - WARNING - query: [{'fixed': True, 'alpha': True, 'tetha': {}, 'label': 'a'}, {'fixed': False, 'alpha': True, 'tetha': {}, 'label': '1'}, {'fixed': False, 'alpha': True, 'tetha': {}, 'label': '2'}][{'inverse': False, 'alpha': True, 'tetha': u'-[:publish]->', 'gamma': ['a', '1'], 'fixed': False}, {'inverse': False, 'alpha': True, 'tetha': u'-[:wife]->', 'gamma': ['1', '2'], 'fixed': False}]\n",
      "2016-12-08 13:38:05,365 - WARNING - ganancia: 0.0\n",
      "2016-12-08 13:38:05,378 - WARNING - query_p (evaluando gain) [{'fixed': True, 'alpha': True, 'tetha': {}, 'label': 'a'}, {'fixed': False, 'alpha': True, 'tetha': {}, 'label': '1'}, {'fixed': False, 'alpha': True, 'tetha': {}, 'label': '2'}][{'inverse': False, 'alpha': True, 'tetha': u'-[:publish]->', 'gamma': ['a', '1'], 'fixed': False}, {'inverse': True, 'alpha': True, 'tetha': u'-[:likes]->', 'gamma': ['2', 'a'], 'fixed': False}]\n",
      "2016-12-08 13:38:05,378 - WARNING - Ejemplos a rama positiva (evaluando gain) []\n",
      "2016-12-08 13:38:05,388 - WARNING - query_n (evaluando gain) [{'fixed': True, 'alpha': True, 'tetha': {}, 'label': 'a'}, {'fixed': False, 'alpha': True, 'tetha': {}, 'label': '1'}, {'fixed': False, 'alpha': False, 'tetha': {}, 'label': '2'}][{'inverse': False, 'alpha': True, 'tetha': u'-[:publish]->', 'gamma': ['a', '1'], 'fixed': False}, {'inverse': True, 'fixed': False, 'other_node': '2', 'alpha': False, 'tetha': u'-[:likes]->', 'gamma': ['2', 'a']}]\n",
      "2016-12-08 13:38:05,389 - WARNING - Ejemplos a rama negativa (evaluando gain) [[1], [4], [6], [8], [11], [13]]\n",
      "2016-12-08 13:38:05,391 - WARNING - query: [{'fixed': True, 'alpha': True, 'tetha': {}, 'label': 'a'}, {'fixed': False, 'alpha': True, 'tetha': {}, 'label': '1'}, {'fixed': False, 'alpha': True, 'tetha': {}, 'label': '2'}][{'inverse': False, 'alpha': True, 'tetha': u'-[:publish]->', 'gamma': ['a', '1'], 'fixed': False}, {'inverse': True, 'alpha': True, 'tetha': u'-[:likes]->', 'gamma': ['2', 'a'], 'fixed': False}]\n",
      "2016-12-08 13:38:05,391 - WARNING - ganancia: 0.0\n",
      "2016-12-08 13:38:05,419 - WARNING - query_p (evaluando gain) [{'fixed': True, 'alpha': True, 'tetha': {}, 'label': 'a'}, {'fixed': False, 'alpha': True, 'tetha': {}, 'label': '1'}, {'fixed': False, 'alpha': True, 'tetha': {}, 'label': '2'}][{'inverse': True, 'alpha': True, 'tetha': u'-[:publish]->', 'gamma': ['a', '1'], 'fixed': False}, {'inverse': True, 'alpha': True, 'tetha': u'-[:likes]->', 'gamma': ['2', '1'], 'fixed': False}]\n",
      "2016-12-08 13:38:05,420 - WARNING - Ejemplos a rama positiva (evaluando gain) [[4], [6], [11], [13]]\n",
      "2016-12-08 13:38:05,433 - WARNING - query_n (evaluando gain) [{'fixed': True, 'alpha': True, 'tetha': {}, 'label': 'a'}, {'fixed': False, 'alpha': True, 'tetha': {}, 'label': '1'}, {'fixed': False, 'alpha': False, 'tetha': {}, 'label': '2'}][{'inverse': False, 'alpha': True, 'tetha': u'-[:publish]->', 'gamma': ['a', '1'], 'fixed': False}, {'inverse': True, 'fixed': False, 'other_node': '2', 'alpha': False, 'tetha': u'-[:likes]->', 'gamma': ['2', '1']}]\n",
      "2016-12-08 13:38:05,434 - WARNING - Ejemplos a rama negativa (evaluando gain) [[1], [8]]\n",
      "2016-12-08 13:38:05,435 - WARNING - query: [{'fixed': True, 'alpha': True, 'tetha': {}, 'label': 'a'}, {'fixed': False, 'alpha': True, 'tetha': {}, 'label': '1'}, {'fixed': False, 'alpha': True, 'tetha': {}, 'label': '2'}][{'inverse': False, 'alpha': True, 'tetha': u'-[:publish]->', 'gamma': ['a', '1'], 'fixed': False}, {'inverse': True, 'alpha': True, 'tetha': u'-[:likes]->', 'gamma': ['2', '1'], 'fixed': False}]\n",
      "2016-12-08 13:38:05,436 - WARNING - ganancia: 0.636514168295\n",
      "2016-12-08 13:38:05,445 - WARNING - query_p (evaluando gain) [{'fixed': True, 'alpha': True, 'tetha': {}, 'label': 'a'}, {'fixed': False, 'alpha': True, 'tetha': {}, 'label': '1'}, {'fixed': False, 'alpha': True, 'tetha': {}, 'label': '2'}][{'inverse': False, 'alpha': True, 'tetha': u'-[:publish]->', 'gamma': ['a', '1'], 'fixed': False}, {'inverse': True, 'alpha': True, 'tetha': u'-[:publish]->', 'gamma': ['2', 'a'], 'fixed': False}]\n",
      "2016-12-08 13:38:05,446 - WARNING - Ejemplos a rama positiva (evaluando gain) []\n",
      "2016-12-08 13:38:05,457 - WARNING - query_n (evaluando gain) [{'fixed': True, 'alpha': True, 'tetha': {}, 'label': 'a'}, {'fixed': False, 'alpha': True, 'tetha': {}, 'label': '1'}, {'fixed': False, 'alpha': False, 'tetha': {}, 'label': '2'}][{'inverse': False, 'alpha': True, 'tetha': u'-[:publish]->', 'gamma': ['a', '1'], 'fixed': False}, {'inverse': True, 'fixed': False, 'other_node': '2', 'alpha': False, 'tetha': u'-[:publish]->', 'gamma': ['2', 'a']}]\n",
      "2016-12-08 13:38:05,458 - WARNING - Ejemplos a rama negativa (evaluando gain) [[1], [4], [6], [8], [11], [13]]\n",
      "2016-12-08 13:38:05,460 - WARNING - query: [{'fixed': True, 'alpha': True, 'tetha': {}, 'label': 'a'}, {'fixed': False, 'alpha': True, 'tetha': {}, 'label': '1'}, {'fixed': False, 'alpha': True, 'tetha': {}, 'label': '2'}][{'inverse': False, 'alpha': True, 'tetha': u'-[:publish]->', 'gamma': ['a', '1'], 'fixed': False}, {'inverse': True, 'alpha': True, 'tetha': u'-[:publish]->', 'gamma': ['2', 'a'], 'fixed': False}]\n",
      "2016-12-08 13:38:05,461 - WARNING - ganancia: 0.0\n",
      "2016-12-08 13:38:05,476 - WARNING - query_p (evaluando gain) [{'fixed': True, 'alpha': True, 'tetha': {}, 'label': 'a'}, {'fixed': False, 'alpha': True, 'tetha': {}, 'label': '1'}, {'fixed': False, 'alpha': True, 'tetha': {}, 'label': '2'}][{'inverse': True, 'alpha': True, 'tetha': u'-[:publish]->', 'gamma': ['a', '1'], 'fixed': False}, {'inverse': True, 'alpha': True, 'tetha': u'-[:publish]->', 'gamma': ['2', '1'], 'fixed': False}]\n",
      "2016-12-08 13:38:05,476 - WARNING - Ejemplos a rama positiva (evaluando gain) [[1], [4], [6], [8], [11], [13]]\n",
      "2016-12-08 13:38:05,493 - WARNING - query_n (evaluando gain) [{'fixed': True, 'alpha': True, 'tetha': {}, 'label': 'a'}, {'fixed': False, 'alpha': True, 'tetha': {}, 'label': '1'}, {'fixed': False, 'alpha': False, 'tetha': {}, 'label': '2'}][{'inverse': False, 'alpha': True, 'tetha': u'-[:publish]->', 'gamma': ['a', '1'], 'fixed': False}, {'inverse': True, 'fixed': False, 'other_node': '2', 'alpha': False, 'tetha': u'-[:publish]->', 'gamma': ['2', '1']}]\n",
      "2016-12-08 13:38:05,494 - WARNING - Ejemplos a rama negativa (evaluando gain) []\n",
      "2016-12-08 13:38:05,495 - WARNING - query: [{'fixed': True, 'alpha': True, 'tetha': {}, 'label': 'a'}, {'fixed': False, 'alpha': True, 'tetha': {}, 'label': '1'}, {'fixed': False, 'alpha': True, 'tetha': {}, 'label': '2'}][{'inverse': False, 'alpha': True, 'tetha': u'-[:publish]->', 'gamma': ['a', '1'], 'fixed': False}, {'inverse': True, 'alpha': True, 'tetha': u'-[:publish]->', 'gamma': ['2', '1'], 'fixed': False}]\n",
      "2016-12-08 13:38:05,495 - WARNING - ganancia: 0.0\n",
      "2016-12-08 13:38:05,509 - WARNING - query_p (evaluando gain) [{'fixed': True, 'alpha': True, 'tetha': {}, 'label': 'a'}, {'fixed': False, 'alpha': True, 'tetha': {}, 'label': '1'}, {'fixed': False, 'alpha': True, 'tetha': {}, 'label': '2'}][{'inverse': False, 'alpha': True, 'tetha': u'-[:publish]->', 'gamma': ['a', '1'], 'fixed': False}, {'inverse': True, 'alpha': True, 'tetha': u'-[:husband]->', 'gamma': ['2', 'a'], 'fixed': False}]\n",
      "2016-12-08 13:38:05,509 - WARNING - Ejemplos a rama positiva (evaluando gain) [[4], [13]]\n",
      "2016-12-08 13:38:05,518 - WARNING - query_n (evaluando gain) [{'fixed': True, 'alpha': True, 'tetha': {}, 'label': 'a'}, {'fixed': False, 'alpha': True, 'tetha': {}, 'label': '1'}, {'fixed': False, 'alpha': False, 'tetha': {}, 'label': '2'}][{'inverse': False, 'alpha': True, 'tetha': u'-[:publish]->', 'gamma': ['a', '1'], 'fixed': False}, {'inverse': True, 'fixed': False, 'other_node': '2', 'alpha': False, 'tetha': u'-[:husband]->', 'gamma': ['2', 'a']}]\n",
      "2016-12-08 13:38:05,519 - WARNING - Ejemplos a rama negativa (evaluando gain) [[1], [6], [8], [11]]\n",
      "2016-12-08 13:38:05,521 - WARNING - query: [{'fixed': True, 'alpha': True, 'tetha': {}, 'label': 'a'}, {'fixed': False, 'alpha': True, 'tetha': {}, 'label': '1'}, {'fixed': False, 'alpha': True, 'tetha': {}, 'label': '2'}][{'inverse': False, 'alpha': True, 'tetha': u'-[:publish]->', 'gamma': ['a', '1'], 'fixed': False}, {'inverse': True, 'alpha': True, 'tetha': u'-[:husband]->', 'gamma': ['2', 'a'], 'fixed': False}]\n",
      "2016-12-08 13:38:05,521 - WARNING - ganancia: -0.0566330122651\n",
      "2016-12-08 13:38:05,546 - WARNING - query_p (evaluando gain) [{'fixed': True, 'alpha': True, 'tetha': {}, 'label': 'a'}, {'fixed': False, 'alpha': True, 'tetha': {}, 'label': '1'}, {'fixed': False, 'alpha': True, 'tetha': {}, 'label': '2'}][{'inverse': True, 'alpha': True, 'tetha': u'-[:publish]->', 'gamma': ['a', '1'], 'fixed': False}, {'inverse': True, 'alpha': True, 'tetha': u'-[:husband]->', 'gamma': ['2', '1'], 'fixed': False}]\n",
      "2016-12-08 13:38:05,547 - WARNING - Ejemplos a rama positiva (evaluando gain) []\n",
      "2016-12-08 13:38:05,556 - WARNING - query_n (evaluando gain) [{'fixed': True, 'alpha': True, 'tetha': {}, 'label': 'a'}, {'fixed': False, 'alpha': True, 'tetha': {}, 'label': '1'}, {'fixed': False, 'alpha': False, 'tetha': {}, 'label': '2'}][{'inverse': False, 'alpha': True, 'tetha': u'-[:publish]->', 'gamma': ['a', '1'], 'fixed': False}, {'inverse': True, 'fixed': False, 'other_node': '2', 'alpha': False, 'tetha': u'-[:husband]->', 'gamma': ['2', '1']}]\n",
      "2016-12-08 13:38:05,557 - WARNING - Ejemplos a rama negativa (evaluando gain) [[1], [4], [6], [8], [11], [13]]\n",
      "2016-12-08 13:38:05,559 - WARNING - query: [{'fixed': True, 'alpha': True, 'tetha': {}, 'label': 'a'}, {'fixed': False, 'alpha': True, 'tetha': {}, 'label': '1'}, {'fixed': False, 'alpha': True, 'tetha': {}, 'label': '2'}][{'inverse': False, 'alpha': True, 'tetha': u'-[:publish]->', 'gamma': ['a', '1'], 'fixed': False}, {'inverse': True, 'alpha': True, 'tetha': u'-[:husband]->', 'gamma': ['2', '1'], 'fixed': False}]\n",
      "2016-12-08 13:38:05,559 - WARNING - ganancia: 0.0\n",
      "2016-12-08 13:38:05,583 - WARNING - query_p (evaluando gain) [{'fixed': True, 'alpha': True, 'tetha': {}, 'label': 'a'}, {'fixed': False, 'alpha': True, 'tetha': {}, 'label': '1'}, {'fixed': False, 'alpha': True, 'tetha': {}, 'label': '2'}][{'inverse': False, 'alpha': True, 'tetha': u'-[:publish]->', 'gamma': ['a', '1'], 'fixed': False}, {'inverse': True, 'alpha': True, 'tetha': u'-[:wife]->', 'gamma': ['2', 'a'], 'fixed': False}]\n",
      "2016-12-08 13:38:05,583 - WARNING - Ejemplos a rama positiva (evaluando gain) [[8]]\n",
      "2016-12-08 13:38:05,595 - WARNING - query_n (evaluando gain) [{'fixed': True, 'alpha': True, 'tetha': {}, 'label': 'a'}, {'fixed': False, 'alpha': True, 'tetha': {}, 'label': '1'}, {'fixed': False, 'alpha': False, 'tetha': {}, 'label': '2'}][{'inverse': False, 'alpha': True, 'tetha': u'-[:publish]->', 'gamma': ['a', '1'], 'fixed': False}, {'inverse': True, 'fixed': False, 'other_node': '2', 'alpha': False, 'tetha': u'-[:wife]->', 'gamma': ['2', 'a']}]\n",
      "2016-12-08 13:38:05,595 - WARNING - Ejemplos a rama negativa (evaluando gain) [[1], [4], [6], [11], [13]]\n",
      "2016-12-08 13:38:05,602 - WARNING - query: [{'fixed': True, 'alpha': True, 'tetha': {}, 'label': 'a'}, {'fixed': False, 'alpha': True, 'tetha': {}, 'label': '1'}, {'fixed': False, 'alpha': True, 'tetha': {}, 'label': '2'}][{'inverse': False, 'alpha': True, 'tetha': u'-[:publish]->', 'gamma': ['a', '1'], 'fixed': False}, {'inverse': True, 'alpha': True, 'tetha': u'-[:wife]->', 'gamma': ['2', 'a'], 'fixed': False}]\n",
      "2016-12-08 13:38:05,602 - WARNING - ganancia: 0.136111744757\n",
      "2016-12-08 13:38:05,632 - WARNING - query_p (evaluando gain) [{'fixed': True, 'alpha': True, 'tetha': {}, 'label': 'a'}, {'fixed': False, 'alpha': True, 'tetha': {}, 'label': '1'}, {'fixed': False, 'alpha': True, 'tetha': {}, 'label': '2'}][{'inverse': True, 'alpha': True, 'tetha': u'-[:publish]->', 'gamma': ['a', '1'], 'fixed': False}, {'inverse': True, 'alpha': True, 'tetha': u'-[:wife]->', 'gamma': ['2', '1'], 'fixed': False}]\n",
      "2016-12-08 13:38:05,633 - WARNING - Ejemplos a rama positiva (evaluando gain) []\n",
      "2016-12-08 13:38:05,645 - WARNING - query_n (evaluando gain) [{'fixed': True, 'alpha': True, 'tetha': {}, 'label': 'a'}, {'fixed': False, 'alpha': True, 'tetha': {}, 'label': '1'}, {'fixed': False, 'alpha': False, 'tetha': {}, 'label': '2'}][{'inverse': False, 'alpha': True, 'tetha': u'-[:publish]->', 'gamma': ['a', '1'], 'fixed': False}, {'inverse': True, 'fixed': False, 'other_node': '2', 'alpha': False, 'tetha': u'-[:wife]->', 'gamma': ['2', '1']}]\n",
      "2016-12-08 13:38:05,646 - WARNING - Ejemplos a rama negativa (evaluando gain) [[1], [4], [6], [8], [11], [13]]\n",
      "2016-12-08 13:38:05,648 - WARNING - query: [{'fixed': True, 'alpha': True, 'tetha': {}, 'label': 'a'}, {'fixed': False, 'alpha': True, 'tetha': {}, 'label': '1'}, {'fixed': False, 'alpha': True, 'tetha': {}, 'label': '2'}][{'inverse': False, 'alpha': True, 'tetha': u'-[:publish]->', 'gamma': ['a', '1'], 'fixed': False}, {'inverse': True, 'alpha': True, 'tetha': u'-[:wife]->', 'gamma': ['2', '1'], 'fixed': False}]\n",
      "2016-12-08 13:38:05,648 - WARNING - ganancia: 0.0\n",
      "2016-12-08 13:38:05,683 - WARNING - Lista de generos para verificar stopcondition:[u'female', u'female', u'female', u'female']\n",
      "2016-12-08 13:38:05,686 - WARNING - Lista de generos para verificar stopcondition:[u'male', u'male']\n",
      "2016-12-08 13:38:05,687 - WARNING - Lista de generos para verificar stopcondition:[u'male', u'male']\n"
     ]
    },
    {
     "name": "stdout",
     "output_type": "stream",
     "text": [
      "[{'fixed': True, 'alpha': True, 'tetha': {}, 'label': 'a'}, {'fixed': False, 'alpha': True, 'tetha': {}, 'label': '1'}][{'inverse': False, 'alpha': True, 'tetha': u'-[:publish]->', 'gamma': ['a', '1'], 'fixed': False}][[1], [3], [4], [6], [8], [9], [11], [13]]\n",
      "\n",
      "     [{'fixed': True, 'alpha': True, 'tetha': {}, 'label': 'a'}, {'fixed': False, 'alpha': True, 'tetha': {}, 'label': '1'}, {'fixed': False, 'alpha': True, 'tetha': {}, 'label': '2'}][{'inverse': False, 'alpha': True, 'tetha': u'-[:publish]->', 'gamma': ['a', '1'], 'fixed': False}, {'inverse': True, 'alpha': True, 'tetha': u'-[:likes]->', 'gamma': ['2', '1'], 'fixed': False}][[1], [4], [6], [8], [11], [13]]\n",
      "\n",
      "          female[[4], [6], [11], [13]]\n",
      "\n",
      "          male[[1], [8]]\n",
      "\n",
      "     male[[3], [9]]\n",
      "\n",
      "\n"
     ]
    }
   ],
   "source": [
    "import sys\n",
    "logging.basicConfig(level=logging.WARNING, format='%(asctime)s - %(levelname)s - %(message)s')\n",
    "\n",
    "sys.setrecursionlimit(200)\n",
    "from tabulate import tabulate\n",
    "from PropertyQueryGraph import *\n",
    "from QuerySystem import *\n",
    "from id3 import *\n",
    "from Refinement import *\n",
    "logging.warn(\"Verifying absent edge restrictions..\")\n",
    "modelo = id3(\"gender\",[\"a\",\"b\"])\n",
    "\n",
    "q = PropertyQueryGraph()\n",
    "q.addNode(\"a\",True,{},True)\n",
    "logging.debug(\"Creando nodo con query: \")\n",
    "#En Casa\n",
    "#arbol = modelo.execute(q , [[2],[4],[5],[7],[9],[10],[12],[14]])\n",
    "#En UCE\n",
    "arbol = modelo.execute(q , [[1],[3],[4],[6],[8],[9],[11],[13]])\n",
    "print arbol.str1()\n",
    "\n",
    "#,5,7,9,10,12,14]"
   ]
  },
  {
   "cell_type": "code",
   "execution_count": 9,
   "metadata": {
    "collapsed": false
   },
   "outputs": [
    {
     "ename": "ImportError",
     "evalue": "No module named pygraphviz",
     "output_type": "error",
     "traceback": [
      "\u001b[0;31m---------------------------------------------------------------------------\u001b[0m",
      "\u001b[0;31mImportError\u001b[0m                               Traceback (most recent call last)",
      "\u001b[0;32m<ipython-input-9-d0353242e9f0>\u001b[0m in \u001b[0;36m<module>\u001b[0;34m()\u001b[0m\n\u001b[1;32m      1\u001b[0m \u001b[0;32mimport\u001b[0m \u001b[0mnetworkx\u001b[0m \u001b[0;32mas\u001b[0m \u001b[0mnx\u001b[0m\u001b[0;34m\u001b[0m\u001b[0m\n\u001b[0;32m----> 2\u001b[0;31m \u001b[0;32mimport\u001b[0m \u001b[0mpygraphviz\u001b[0m \u001b[0;32mas\u001b[0m \u001b[0mpgv\u001b[0m\u001b[0;34m\u001b[0m\u001b[0m\n\u001b[0m\u001b[1;32m      3\u001b[0m \u001b[0mA\u001b[0m \u001b[0;34m=\u001b[0m \u001b[0mnx\u001b[0m\u001b[0;34m.\u001b[0m\u001b[0mto_agraph\u001b[0m\u001b[0;34m(\u001b[0m\u001b[0mG\u001b[0m\u001b[0;34m)\u001b[0m\u001b[0;34m\u001b[0m\u001b[0m\n\u001b[1;32m      4\u001b[0m \u001b[0mA\u001b[0m\u001b[0;34m.\u001b[0m\u001b[0mlayout\u001b[0m\u001b[0;34m(\u001b[0m\u001b[0mprog\u001b[0m\u001b[0;34m=\u001b[0m\u001b[0;34m'dot'\u001b[0m\u001b[0;34m)\u001b[0m\u001b[0;34m\u001b[0m\u001b[0m\n\u001b[1;32m      5\u001b[0m \u001b[0mA\u001b[0m\u001b[0;34m.\u001b[0m\u001b[0mdraw\u001b[0m\u001b[0;34m(\u001b[0m\u001b[0;34m'test.png'\u001b[0m\u001b[0;34m)\u001b[0m\u001b[0;34m\u001b[0m\u001b[0m\n",
      "\u001b[0;31mImportError\u001b[0m: No module named pygraphviz"
     ]
    }
   ],
   "source": [
    "import networkx as nx\n",
    "import pygraphviz as pgv\n",
    "A = nx.to_agraph(G)\n",
    "A.layout(prog='dot')\n",
    "A.draw('test.png')"
   ]
  },
  {
   "cell_type": "code",
   "execution_count": 5,
   "metadata": {
    "collapsed": false
   },
   "outputs": [
    {
     "name": "stdout",
     "output_type": "stream",
     "text": [
      "a\n",
      "b\n"
     ]
    }
   ],
   "source": [
    "print \"a\\nb\""
   ]
  },
  {
   "cell_type": "code",
   "execution_count": null,
   "metadata": {
    "collapsed": true
   },
   "outputs": [],
   "source": [
    "from PropertyQueryGraph import *"
   ]
  },
  {
   "cell_type": "code",
   "execution_count": 1,
   "metadata": {
    "collapsed": false
   },
   "outputs": [
    {
     "data": {
      "text/plain": [
       "'f30f5eb3957f47fdb76b4b3f2d560a04'"
      ]
     },
     "execution_count": 1,
     "metadata": {},
     "output_type": "execute_result"
    }
   ],
   "source": [
    "import uuid\n",
    "uuid.uuid4().hex"
   ]
  },
  {
   "cell_type": "code",
   "execution_count": 2,
   "metadata": {
    "collapsed": true
   },
   "outputs": [],
   "source": [
    "q = PropertyQueryGraph()\n",
    "q.addNode(\"a\",True,{},True)"
   ]
  },
  {
   "cell_type": "code",
   "execution_count": 5,
   "metadata": {
    "collapsed": false
   },
   "outputs": [],
   "source": [
    "r = Refinement(\"c\",q.nodes[0])"
   ]
  },
  {
   "cell_type": "code",
   "execution_count": 6,
   "metadata": {
    "collapsed": false
   },
   "outputs": [],
   "source": [
    "p = r.refine(q)"
   ]
  },
  {
   "cell_type": "code",
   "execution_count": 13,
   "metadata": {
    "collapsed": false
   },
   "outputs": [
    {
     "data": {
      "text/plain": [
       "[{'alpha': True, 'fixed': True, 'label': 'a', 'tetha': {}},\n",
       " {'alpha': False,\n",
       "  'fixed': False,\n",
       "  'label': '95b087c493e245c5918fe49f48e3c399',\n",
       "  'tetha': {}}]"
      ]
     },
     "execution_count": 13,
     "metadata": {},
     "output_type": "execute_result"
    }
   ],
   "source": [
    "p.nodes\n"
   ]
  },
  {
   "cell_type": "code",
   "execution_count": 12,
   "metadata": {
    "collapsed": false
   },
   "outputs": [
    {
     "data": {
      "text/plain": [
       "[]"
      ]
     },
     "execution_count": 12,
     "metadata": {},
     "output_type": "execute_result"
    }
   ],
   "source": [
    "q.nodes\n",
    "q.links"
   ]
  }
 ],
 "metadata": {
  "kernelspec": {
   "display_name": "Python 2",
   "language": "python",
   "name": "python2"
  },
  "language_info": {
   "codemirror_mode": {
    "name": "ipython",
    "version": 2
   },
   "file_extension": ".py",
   "mimetype": "text/x-python",
   "name": "python",
   "nbconvert_exporter": "python",
   "pygments_lexer": "ipython2",
   "version": "2.7.6"
  }
 },
 "nbformat": 4,
 "nbformat_minor": 1
}
