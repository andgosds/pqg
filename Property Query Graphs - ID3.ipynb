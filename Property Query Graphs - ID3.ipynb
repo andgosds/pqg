{
 "cells": [
  {
   "cell_type": "markdown",
   "metadata": {},
   "source": [
    "## Property Query Graphs - ID3"
   ]
  },
  {
   "cell_type": "markdown",
   "metadata": {},
   "source": [
    "A continuación presentamos el algoritmo de aprendizaje de árboles de decisión multi-relacionales sobre grafos con propiedades \"Property Query Graphs - ID3\", el cual utiliza Property Query Graphs para evaluar atributos de estructuras en grafos que son \"generados\" durante la construcción del árbol. Esta librería construye árboles de decisión clasificadores multi-relacionales a partir de subgrafos inmersos en una base de datos en grafo Neo4j."
   ]
  },
  {
   "cell_type": "markdown",
   "metadata": {},
   "source": [
    "Cargamos la librería y realizamos el mismo aprendizaje sobre \"genero\" que en capítulo."
   ]
  },
  {
   "cell_type": "code",
   "execution_count": 1,
   "metadata": {
    "collapsed": false
   },
   "outputs": [
    {
     "name": "stderr",
     "output_type": "stream",
     "text": [
      "2017-01-23 15:35:54,440 - INFO - Generating grammar tables from /usr/lib/python2.7/lib2to3/Grammar.txt\n",
      "2017-01-23 15:35:54,506 - INFO - Generating grammar tables from /usr/lib/python2.7/lib2to3/PatternGrammar.txt\n"
     ]
    },
    {
     "ename": "SyntaxError",
     "evalue": "Non-ASCII character '\\xc3' in file Refinement.py on line 1, but no encoding declared; see http://www.python.org/peps/pep-0263.html for details (Refinement.py, line 1)",
     "output_type": "error",
     "traceback": [
      "\u001b[0;36m  File \u001b[0;32m\"Refinement.py\"\u001b[0;36m, line \u001b[0;32m1\u001b[0m\n\u001b[0;31m    #SE ESTA MACHACANDO EL NODO DEL OTRO QUERY AL AÑADIR PROPIEDADES!!!!\u001b[0m\n\u001b[0m                                                                        ^\u001b[0m\n\u001b[0;31mSyntaxError\u001b[0m\u001b[0;31m:\u001b[0m Non-ASCII character '\\xc3' in file Refinement.py on line 1, but no encoding declared; see http://www.python.org/peps/pep-0263.html for details\n"
     ]
    }
   ],
   "source": [
    "import sys\n",
    "import logging\n",
    "logging.basicConfig(level=logging.INFO, format='%(asctime)s - %(levelname)s - %(message)s')\n",
    "from tabulate import tabulate\n",
    "from PropertyQueryGraph import *\n",
    "from QuerySystem import *\n",
    "from id3 import *\n",
    "from Refinement import *"
   ]
  },
  {
   "cell_type": "code",
   "execution_count": null,
   "metadata": {
    "collapsed": false,
    "scrolled": false
   },
   "outputs": [],
   "source": [
    "modelo = id3(\"gender\",[\"a\",\"b\"])\n",
    "\n",
    "q = PropertyQueryGraph()\n",
    "q.addNode(\"0\",True,{},True)\n",
    "logging.debug(\"Creando nodo con query: \")\n",
    "#En Casa\n",
    "#arbol = modelo.execute(q , [[2],[4],[5],[7],[9],[10],[12],[14]])\n",
    "#En UCE\n",
    "arbol = modelo.execute(q , [[1],[3],[4],[6],[8],[9],[11],[13]])\n",
    "arbol.draw()\n",
    "\n",
    "#,5,7,9,10,12,14]"
   ]
  },
  {
   "cell_type": "code",
   "execution_count": 7,
   "metadata": {
    "collapsed": false
   },
   "outputs": [
    {
     "name": "stdout",
     "output_type": "stream",
     "text": [
      "[{'fixed': True, 'alpha': True, 'tetha': {}, 'label': '0'}][][[2], [4], [5], [7], [9], [10], [12], [14]]\n",
      "\n",
      "\n"
     ]
    }
   ],
   "source": [
    "print arbol.str1()"
   ]
  },
  {
   "cell_type": "code",
   "execution_count": 4,
   "metadata": {
    "collapsed": false
   },
   "outputs": [],
   "source": [
    "%matplotlib inline"
   ]
  },
  {
   "cell_type": "code",
   "execution_count": 5,
   "metadata": {
    "collapsed": false
   },
   "outputs": [
    {
     "data": {
      "image/png": "[encoded data removed]",
      "text/plain": [
       "<matplotlib.figure.Figure at 0x7f1cb916a210>"
      ]
     },
     "metadata": {},
     "output_type": "display_data"
    }
   ],
   "source": [
    "arbol.draw()"
   ]
  },
  {
   "cell_type": "code",
   "execution_count": 6,
   "metadata": {
    "collapsed": false
   },
   "outputs": [
    {
     "data": {
      "text/plain": [
       "0"
      ]
     },
     "execution_count": 6,
     "metadata": {},
     "output_type": "execute_result"
    }
   ],
   "source": [
    "1 / 2"
   ]
  },
  {
   "cell_type": "markdown",
   "metadata": {},
   "source": [
    "Realizamos un segundo experimento construyendo un arbol de decisión multi-relacional que nos clasifique los nodos en el grafo según su propiedad \"type\" (user ó photo)."
   ]
  },
  {
   "cell_type": "code",
   "execution_count": 4,
   "metadata": {
    "collapsed": false
   },
   "outputs": [
    {
     "name": "stdout",
     "output_type": "stream",
     "text": [
      "[{'fixed': True, 'alpha': True, 'tetha': {}, 'label': 'a'}, {'fixed': False, 'alpha': True, 'tetha': {}, 'label': '1'}][{'inverse': True, 'alpha': True, 'tetha': u'-[:publish]->', 'gamma': ['1', 'a'], 'fixed': False}][[2], [0], [5], [6], [8], [9], [11], [13], [4]]\n",
      "\n",
      "     photo[[2], [0], [5]]\n",
      "\n",
      "     user[[6], [8], [9], [11], [13], [4]]\n",
      "\n",
      "\n"
     ]
    }
   ],
   "source": [
    "modelo = id3(\"type\",[\"a\",\"b\"])\n",
    "\n",
    "q = PropertyQueryGraph()\n",
    "q.addNode(\"a\",True,{},True)\n",
    "logging.debug(\"Creando nodo con query: \")\n",
    "#En Casa\n",
    "#arbol = modelo.execute(q , [[2],[4],[5],[7],[9],[10],[12],[14]])\n",
    "#En UCE\n",
    "arbol = modelo.execute(q , [[2],[0],[5],[6],[8],[9],[11],[13],[4]])\n",
    "print arbol.str1()"
   ]
  }
 ],
 "metadata": {
  "kernelspec": {
   "display_name": "Python 2",
   "language": "python",
   "name": "python2"
  },
  "language_info": {
   "codemirror_mode": {
    "name": "ipython",
    "version": 2
   },
   "file_extension": ".py",
   "mimetype": "text/x-python",
   "name": "python",
   "nbconvert_exporter": "python",
   "pygments_lexer": "ipython2",
   "version": "2.7.6"
  }
 },
 "nbformat": 4,
 "nbformat_minor": 1
}
